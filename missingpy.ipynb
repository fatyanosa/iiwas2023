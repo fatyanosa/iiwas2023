{
 "cells": [
  {
   "cell_type": "code",
   "execution_count": 1,
   "metadata": {},
   "outputs": [],
   "source": [
    "import numpy as np"
   ]
  },
  {
   "cell_type": "code",
   "execution_count": 2,
   "metadata": {},
   "outputs": [],
   "source": [
    "Y = [\n",
    "    [      1,       1,       1,     10],\n",
    "    [      2,       2,       2,     20],\n",
    "    [      3,       1,       1,     10],\n",
    "    [      4,       2,       2,     20],\n",
    "    [      5,       1,       1,    100],\n",
    "    [      6,       2,       2,    100],\n",
    "    [      7,       1,       1,     10],\n",
    "    [      8,       2,       2,     20]\n",
    "    ]"
   ]
  },
  {
   "cell_type": "code",
   "execution_count": 3,
   "metadata": {},
   "outputs": [],
   "source": [
    "X = [\n",
    "    [      1,       1,       1,     10],\n",
    "    [      2,       2,       2,     20],\n",
    "    [      3,       1,       1,     10],\n",
    "    [      4,       2,       2,     20],\n",
    "    [      5,       1,       1, np.nan],\n",
    "    [      6,       2,       2, np.nan],\n",
    "    [      7,       1,       1,     10],\n",
    "    [      8,       2,       2,     20]\n",
    "    ]"
   ]
  },
  {
   "cell_type": "code",
   "execution_count": 4,
   "metadata": {},
   "outputs": [
    {
     "data": {
      "text/plain": [
       "array([[ 1.        ,  1.        ,  1.        , 10.        ],\n",
       "       [ 2.        ,  2.        ,  2.        , 20.        ],\n",
       "       [ 3.        ,  1.        ,  1.        , 10.        ],\n",
       "       [ 4.        ,  2.        ,  2.        , 20.        ],\n",
       "       [ 5.        ,  1.        ,  1.        , 13.33333333],\n",
       "       [ 6.        ,  2.        ,  2.        , 16.66666667],\n",
       "       [ 7.        ,  1.        ,  1.        , 10.        ],\n",
       "       [ 8.        ,  2.        ,  2.        , 20.        ]])"
      ]
     },
     "execution_count": 4,
     "metadata": {},
     "output_type": "execute_result"
    }
   ],
   "source": [
    "from missingpy import KNNImputer\n",
    "\n",
    "imputer = KNNImputer(n_neighbors=3, weights=\"uniform\")\n",
    "imputer.fit_transform(X)"
   ]
  },
  {
   "cell_type": "code",
   "execution_count": 5,
   "metadata": {},
   "outputs": [
    {
     "name": "stdout",
     "output_type": "stream",
     "text": [
      "Iteration: 0\n",
      "Iteration: 1\n",
      "Iteration: 2\n"
     ]
    },
    {
     "data": {
      "text/plain": [
       "array([[ 1. ,  1. ,  1. , 10. ],\n",
       "       [ 2. ,  2. ,  2. , 20. ],\n",
       "       [ 3. ,  1. ,  1. , 10. ],\n",
       "       [ 4. ,  2. ,  2. , 20. ],\n",
       "       [ 5. ,  1. ,  1. , 10.6],\n",
       "       [ 6. ,  2. ,  2. , 19.7],\n",
       "       [ 7. ,  1. ,  1. , 10. ],\n",
       "       [ 8. ,  2. ,  2. , 20. ]])"
      ]
     },
     "execution_count": 5,
     "metadata": {},
     "output_type": "execute_result"
    }
   ],
   "source": [
    "from missingpy import MissForest\n",
    "\n",
    "imputer = MissForest(random_state=1337)\n",
    "imputer.fit_transform(X)"
   ]
  },
  {
   "cell_type": "code",
   "execution_count": 6,
   "metadata": {},
   "outputs": [
    {
     "data": {
      "text/plain": [
       "array([[ 1.,  1.,  1., 10.],\n",
       "       [ 2.,  2.,  2., 20.],\n",
       "       [ 3.,  1.,  1., 10.],\n",
       "       [ 4.,  2.,  2., 20.],\n",
       "       [ 5.,  1.,  1., 15.],\n",
       "       [ 6.,  2.,  2., 15.],\n",
       "       [ 7.,  1.,  1., 10.],\n",
       "       [ 8.,  2.,  2., 20.]])"
      ]
     },
     "execution_count": 6,
     "metadata": {},
     "output_type": "execute_result"
    }
   ],
   "source": [
    "from sklearn.impute import SimpleImputer\n",
    "\n",
    "imputer = SimpleImputer(missing_values=np.nan, strategy='mean')\n",
    "imputer.fit_transform(X)"
   ]
  }
 ],
 "metadata": {
  "kernelspec": {
   "display_name": "iiwas2023",
   "language": "python",
   "name": "python3"
  },
  "language_info": {
   "codemirror_mode": {
    "name": "ipython",
    "version": 3
   },
   "file_extension": ".py",
   "mimetype": "text/x-python",
   "name": "python",
   "nbconvert_exporter": "python",
   "pygments_lexer": "ipython3",
   "version": "3.9.16"
  },
  "orig_nbformat": 4
 },
 "nbformat": 4,
 "nbformat_minor": 2
}
