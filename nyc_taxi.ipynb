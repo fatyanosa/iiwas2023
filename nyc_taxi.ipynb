{
 "cells": [
  {
   "cell_type": "code",
   "execution_count": 24,
   "metadata": {},
   "outputs": [],
   "source": [
    "import numpy as np\n",
    "import pandas as pd\n",
    "from missingpy import MissForest\n",
    "from sklearn.impute import KNNImputer, SimpleImputer"
   ]
  },
  {
   "attachments": {},
   "cell_type": "markdown",
   "metadata": {},
   "source": [
    "# Reading Dataset"
   ]
  },
  {
   "cell_type": "code",
   "execution_count": 25,
   "metadata": {},
   "outputs": [
    {
     "data": {
      "text/html": [
       "<div>\n",
       "<style scoped>\n",
       "    .dataframe tbody tr th:only-of-type {\n",
       "        vertical-align: middle;\n",
       "    }\n",
       "\n",
       "    .dataframe tbody tr th {\n",
       "        vertical-align: top;\n",
       "    }\n",
       "\n",
       "    .dataframe thead th {\n",
       "        text-align: right;\n",
       "    }\n",
       "</style>\n",
       "<table border=\"1\" class=\"dataframe\">\n",
       "  <thead>\n",
       "    <tr style=\"text-align: right;\">\n",
       "      <th></th>\n",
       "      <th>timestamp</th>\n",
       "      <th>value</th>\n",
       "    </tr>\n",
       "  </thead>\n",
       "  <tbody>\n",
       "    <tr>\n",
       "      <th>0</th>\n",
       "      <td>2014-07-01 00:00:00</td>\n",
       "      <td>10844</td>\n",
       "    </tr>\n",
       "    <tr>\n",
       "      <th>1</th>\n",
       "      <td>2014-07-01 00:30:00</td>\n",
       "      <td>8127</td>\n",
       "    </tr>\n",
       "    <tr>\n",
       "      <th>2</th>\n",
       "      <td>2014-07-01 01:00:00</td>\n",
       "      <td>6210</td>\n",
       "    </tr>\n",
       "    <tr>\n",
       "      <th>3</th>\n",
       "      <td>2014-07-01 01:30:00</td>\n",
       "      <td>4656</td>\n",
       "    </tr>\n",
       "    <tr>\n",
       "      <th>4</th>\n",
       "      <td>2014-07-01 02:00:00</td>\n",
       "      <td>3820</td>\n",
       "    </tr>\n",
       "    <tr>\n",
       "      <th>...</th>\n",
       "      <td>...</td>\n",
       "      <td>...</td>\n",
       "    </tr>\n",
       "    <tr>\n",
       "      <th>10315</th>\n",
       "      <td>2015-01-31 21:30:00</td>\n",
       "      <td>24670</td>\n",
       "    </tr>\n",
       "    <tr>\n",
       "      <th>10316</th>\n",
       "      <td>2015-01-31 22:00:00</td>\n",
       "      <td>25721</td>\n",
       "    </tr>\n",
       "    <tr>\n",
       "      <th>10317</th>\n",
       "      <td>2015-01-31 22:30:00</td>\n",
       "      <td>27309</td>\n",
       "    </tr>\n",
       "    <tr>\n",
       "      <th>10318</th>\n",
       "      <td>2015-01-31 23:00:00</td>\n",
       "      <td>26591</td>\n",
       "    </tr>\n",
       "    <tr>\n",
       "      <th>10319</th>\n",
       "      <td>2015-01-31 23:30:00</td>\n",
       "      <td>26288</td>\n",
       "    </tr>\n",
       "  </tbody>\n",
       "</table>\n",
       "<p>10320 rows × 2 columns</p>\n",
       "</div>"
      ],
      "text/plain": [
       "                timestamp  value\n",
       "0     2014-07-01 00:00:00  10844\n",
       "1     2014-07-01 00:30:00   8127\n",
       "2     2014-07-01 01:00:00   6210\n",
       "3     2014-07-01 01:30:00   4656\n",
       "4     2014-07-01 02:00:00   3820\n",
       "...                   ...    ...\n",
       "10315 2015-01-31 21:30:00  24670\n",
       "10316 2015-01-31 22:00:00  25721\n",
       "10317 2015-01-31 22:30:00  27309\n",
       "10318 2015-01-31 23:00:00  26591\n",
       "10319 2015-01-31 23:30:00  26288\n",
       "\n",
       "[10320 rows x 2 columns]"
      ]
     },
     "execution_count": 25,
     "metadata": {},
     "output_type": "execute_result"
    }
   ],
   "source": [
    "# Read the dataset\n",
    "raw = pd.read_csv(\"data/nyc_taxi.csv\",low_memory=False)\n",
    "raw['timestamp'] = pd.to_datetime(raw['timestamp'])\n",
    "\n",
    "# Preview raw dataset\n",
    "raw"
   ]
  },
  {
   "cell_type": "code",
   "execution_count": 26,
   "metadata": {},
   "outputs": [
    {
     "data": {
      "text/html": [
       "<div>\n",
       "<style scoped>\n",
       "    .dataframe tbody tr th:only-of-type {\n",
       "        vertical-align: middle;\n",
       "    }\n",
       "\n",
       "    .dataframe tbody tr th {\n",
       "        vertical-align: top;\n",
       "    }\n",
       "\n",
       "    .dataframe thead th {\n",
       "        text-align: right;\n",
       "    }\n",
       "</style>\n",
       "<table border=\"1\" class=\"dataframe\">\n",
       "  <thead>\n",
       "    <tr style=\"text-align: right;\">\n",
       "      <th></th>\n",
       "      <th>timestamp</th>\n",
       "      <th>value</th>\n",
       "      <th>anomaly</th>\n",
       "    </tr>\n",
       "  </thead>\n",
       "  <tbody>\n",
       "    <tr>\n",
       "      <th>0</th>\n",
       "      <td>2014-07-01 00:00:00</td>\n",
       "      <td>10844</td>\n",
       "      <td>0</td>\n",
       "    </tr>\n",
       "    <tr>\n",
       "      <th>1</th>\n",
       "      <td>2014-07-01 00:30:00</td>\n",
       "      <td>8127</td>\n",
       "      <td>0</td>\n",
       "    </tr>\n",
       "    <tr>\n",
       "      <th>2</th>\n",
       "      <td>2014-07-01 01:00:00</td>\n",
       "      <td>6210</td>\n",
       "      <td>0</td>\n",
       "    </tr>\n",
       "    <tr>\n",
       "      <th>3</th>\n",
       "      <td>2014-07-01 01:30:00</td>\n",
       "      <td>4656</td>\n",
       "      <td>0</td>\n",
       "    </tr>\n",
       "    <tr>\n",
       "      <th>4</th>\n",
       "      <td>2014-07-01 02:00:00</td>\n",
       "      <td>3820</td>\n",
       "      <td>0</td>\n",
       "    </tr>\n",
       "    <tr>\n",
       "      <th>...</th>\n",
       "      <td>...</td>\n",
       "      <td>...</td>\n",
       "      <td>...</td>\n",
       "    </tr>\n",
       "    <tr>\n",
       "      <th>10315</th>\n",
       "      <td>2015-01-31 21:30:00</td>\n",
       "      <td>24670</td>\n",
       "      <td>0</td>\n",
       "    </tr>\n",
       "    <tr>\n",
       "      <th>10316</th>\n",
       "      <td>2015-01-31 22:00:00</td>\n",
       "      <td>25721</td>\n",
       "      <td>0</td>\n",
       "    </tr>\n",
       "    <tr>\n",
       "      <th>10317</th>\n",
       "      <td>2015-01-31 22:30:00</td>\n",
       "      <td>27309</td>\n",
       "      <td>0</td>\n",
       "    </tr>\n",
       "    <tr>\n",
       "      <th>10318</th>\n",
       "      <td>2015-01-31 23:00:00</td>\n",
       "      <td>26591</td>\n",
       "      <td>0</td>\n",
       "    </tr>\n",
       "    <tr>\n",
       "      <th>10319</th>\n",
       "      <td>2015-01-31 23:30:00</td>\n",
       "      <td>26288</td>\n",
       "      <td>0</td>\n",
       "    </tr>\n",
       "  </tbody>\n",
       "</table>\n",
       "<p>10320 rows × 3 columns</p>\n",
       "</div>"
      ],
      "text/plain": [
       "                timestamp  value  anomaly\n",
       "0     2014-07-01 00:00:00  10844        0\n",
       "1     2014-07-01 00:30:00   8127        0\n",
       "2     2014-07-01 01:00:00   6210        0\n",
       "3     2014-07-01 01:30:00   4656        0\n",
       "4     2014-07-01 02:00:00   3820        0\n",
       "...                   ...    ...      ...\n",
       "10315 2015-01-31 21:30:00  24670        0\n",
       "10316 2015-01-31 22:00:00  25721        0\n",
       "10317 2015-01-31 22:30:00  27309        0\n",
       "10318 2015-01-31 23:00:00  26591        0\n",
       "10319 2015-01-31 23:30:00  26288        0\n",
       "\n",
       "[10320 rows x 3 columns]"
      ]
     },
     "execution_count": 26,
     "metadata": {},
     "output_type": "execute_result"
    }
   ],
   "source": [
    "# The times of anomaly events (Ground Truth)\n",
    "anomaly_points = [\n",
    "        [\n",
    "            \"2014-10-30 15:30:00.000000\",\n",
    "            \"2014-11-03 22:30:00.000000\"\n",
    "        ],\n",
    "        [\n",
    "            \"2014-11-25 12:00:00.000000\",\n",
    "            \"2014-11-29 19:00:00.000000\"\n",
    "        ],\n",
    "        [\n",
    "            \"2014-12-23 11:30:00.000000\",\n",
    "            \"2014-12-27 18:30:00.000000\"\n",
    "        ],\n",
    "        [\n",
    "            \"2014-12-29 21:30:00.000000\",\n",
    "            \"2015-01-03 04:30:00.000000\"\n",
    "        ],\n",
    "        [\n",
    "            \"2015-01-24 20:30:00.000000\",\n",
    "            \"2015-01-29 03:30:00.000000\"\n",
    "        ]\n",
    "]\n",
    "\n",
    "# Labeling: if anomaly then 1 else 0\n",
    "raw['anomaly'] = 0  # Set default values\n",
    "for start, end in anomaly_points:\n",
    "    raw.loc[((raw['timestamp'] >= start) & (raw['timestamp'] <= end)), 'anomaly'] = 1\n",
    "\n",
    "# Preview labeled raw dataset\n",
    "raw"
   ]
  },
  {
   "cell_type": "code",
   "execution_count": 27,
   "metadata": {},
   "outputs": [
    {
     "data": {
      "text/plain": [
       "0    9285\n",
       "1    1035\n",
       "Name: anomaly, dtype: int64"
      ]
     },
     "execution_count": 27,
     "metadata": {},
     "output_type": "execute_result"
    }
   ],
   "source": [
    "raw['anomaly'].value_counts()"
   ]
  },
  {
   "attachments": {},
   "cell_type": "markdown",
   "metadata": {},
   "source": [
    "# Preprocessing"
   ]
  },
  {
   "cell_type": "code",
   "execution_count": 28,
   "metadata": {},
   "outputs": [
    {
     "data": {
      "text/html": [
       "<div>\n",
       "<style scoped>\n",
       "    .dataframe tbody tr th:only-of-type {\n",
       "        vertical-align: middle;\n",
       "    }\n",
       "\n",
       "    .dataframe tbody tr th {\n",
       "        vertical-align: top;\n",
       "    }\n",
       "\n",
       "    .dataframe thead th {\n",
       "        text-align: right;\n",
       "    }\n",
       "</style>\n",
       "<table border=\"1\" class=\"dataframe\">\n",
       "  <thead>\n",
       "    <tr style=\"text-align: right;\">\n",
       "      <th></th>\n",
       "      <th>year</th>\n",
       "      <th>month</th>\n",
       "      <th>day</th>\n",
       "      <th>hour</th>\n",
       "      <th>value</th>\n",
       "      <th>anomaly</th>\n",
       "    </tr>\n",
       "  </thead>\n",
       "  <tbody>\n",
       "    <tr>\n",
       "      <th>0</th>\n",
       "      <td>2014</td>\n",
       "      <td>7</td>\n",
       "      <td>1</td>\n",
       "      <td>0</td>\n",
       "      <td>10844</td>\n",
       "      <td>0</td>\n",
       "    </tr>\n",
       "    <tr>\n",
       "      <th>1</th>\n",
       "      <td>2014</td>\n",
       "      <td>7</td>\n",
       "      <td>1</td>\n",
       "      <td>0</td>\n",
       "      <td>8127</td>\n",
       "      <td>0</td>\n",
       "    </tr>\n",
       "    <tr>\n",
       "      <th>2</th>\n",
       "      <td>2014</td>\n",
       "      <td>7</td>\n",
       "      <td>1</td>\n",
       "      <td>1</td>\n",
       "      <td>6210</td>\n",
       "      <td>0</td>\n",
       "    </tr>\n",
       "    <tr>\n",
       "      <th>3</th>\n",
       "      <td>2014</td>\n",
       "      <td>7</td>\n",
       "      <td>1</td>\n",
       "      <td>1</td>\n",
       "      <td>4656</td>\n",
       "      <td>0</td>\n",
       "    </tr>\n",
       "    <tr>\n",
       "      <th>4</th>\n",
       "      <td>2014</td>\n",
       "      <td>7</td>\n",
       "      <td>1</td>\n",
       "      <td>2</td>\n",
       "      <td>3820</td>\n",
       "      <td>0</td>\n",
       "    </tr>\n",
       "    <tr>\n",
       "      <th>...</th>\n",
       "      <td>...</td>\n",
       "      <td>...</td>\n",
       "      <td>...</td>\n",
       "      <td>...</td>\n",
       "      <td>...</td>\n",
       "      <td>...</td>\n",
       "    </tr>\n",
       "    <tr>\n",
       "      <th>10315</th>\n",
       "      <td>2015</td>\n",
       "      <td>1</td>\n",
       "      <td>31</td>\n",
       "      <td>21</td>\n",
       "      <td>24670</td>\n",
       "      <td>0</td>\n",
       "    </tr>\n",
       "    <tr>\n",
       "      <th>10316</th>\n",
       "      <td>2015</td>\n",
       "      <td>1</td>\n",
       "      <td>31</td>\n",
       "      <td>22</td>\n",
       "      <td>25721</td>\n",
       "      <td>0</td>\n",
       "    </tr>\n",
       "    <tr>\n",
       "      <th>10317</th>\n",
       "      <td>2015</td>\n",
       "      <td>1</td>\n",
       "      <td>31</td>\n",
       "      <td>22</td>\n",
       "      <td>27309</td>\n",
       "      <td>0</td>\n",
       "    </tr>\n",
       "    <tr>\n",
       "      <th>10318</th>\n",
       "      <td>2015</td>\n",
       "      <td>1</td>\n",
       "      <td>31</td>\n",
       "      <td>23</td>\n",
       "      <td>26591</td>\n",
       "      <td>0</td>\n",
       "    </tr>\n",
       "    <tr>\n",
       "      <th>10319</th>\n",
       "      <td>2015</td>\n",
       "      <td>1</td>\n",
       "      <td>31</td>\n",
       "      <td>23</td>\n",
       "      <td>26288</td>\n",
       "      <td>0</td>\n",
       "    </tr>\n",
       "  </tbody>\n",
       "</table>\n",
       "<p>10320 rows × 6 columns</p>\n",
       "</div>"
      ],
      "text/plain": [
       "       year  month  day  hour  value  anomaly\n",
       "0      2014      7    1     0  10844        0\n",
       "1      2014      7    1     0   8127        0\n",
       "2      2014      7    1     1   6210        0\n",
       "3      2014      7    1     1   4656        0\n",
       "4      2014      7    1     2   3820        0\n",
       "...     ...    ...  ...   ...    ...      ...\n",
       "10315  2015      1   31    21  24670        0\n",
       "10316  2015      1   31    22  25721        0\n",
       "10317  2015      1   31    22  27309        0\n",
       "10318  2015      1   31    23  26591        0\n",
       "10319  2015      1   31    23  26288        0\n",
       "\n",
       "[10320 rows x 6 columns]"
      ]
     },
     "execution_count": 28,
     "metadata": {},
     "output_type": "execute_result"
    }
   ],
   "source": [
    "# Convert the timestamp\n",
    "df = pd.DataFrame()\n",
    "df['year'] = raw['timestamp'].dt.year\n",
    "df['month'] = raw['timestamp'].dt.month\n",
    "df['day'] = raw['timestamp'].dt.day\n",
    "df['hour'] = raw['timestamp'].dt.hour\n",
    "df['value'] = raw['value']\n",
    "df['anomaly'] = raw['anomaly']\n",
    "\n",
    "# delete unused dataframe\n",
    "del raw\n",
    "\n",
    "# Preview dataset\n",
    "df"
   ]
  },
  {
   "cell_type": "code",
   "execution_count": 29,
   "metadata": {},
   "outputs": [],
   "source": [
    "# Calculate the number of rows representing 80% of the DataFrame for training\n",
    "num_rows = int(0.8 * len(df))\n",
    "\n",
    "# Get the first 80% of the DataFrame\n",
    "df_train = df[:num_rows]\n",
    "\n",
    "# Get the remaining 20% of the DataFrame\n",
    "df_test = df[num_rows:]\n",
    "\n",
    "# delete unused dataframe\n",
    "del df"
   ]
  },
  {
   "cell_type": "code",
   "execution_count": 30,
   "metadata": {},
   "outputs": [
    {
     "data": {
      "text/plain": [
       "0    7842\n",
       "1     414\n",
       "Name: anomaly, dtype: int64"
      ]
     },
     "execution_count": 30,
     "metadata": {},
     "output_type": "execute_result"
    }
   ],
   "source": [
    "df_train['anomaly'].value_counts()"
   ]
  },
  {
   "cell_type": "code",
   "execution_count": 31,
   "metadata": {},
   "outputs": [
    {
     "data": {
      "text/plain": [
       "0    1443\n",
       "1     621\n",
       "Name: anomaly, dtype: int64"
      ]
     },
     "execution_count": 31,
     "metadata": {},
     "output_type": "execute_result"
    }
   ],
   "source": [
    "df_test['anomaly'].value_counts()"
   ]
  },
  {
   "cell_type": "code",
   "execution_count": 32,
   "metadata": {},
   "outputs": [],
   "source": [
    "# (1) Get normal training data, (2) Drop 'anomaly' column, and (3) convert it to float\n",
    "X_train_normal = df_train[df_train['anomaly'] == 0].drop(columns=['anomaly']).to_numpy(dtype=float)\n",
    "# Copy the 'value' column of normal training data\n",
    "y_train_normal = X_train_normal[:, -1].copy()\n",
    "\n",
    "# (1) Get anomaly training data, (2) Drop 'anomaly' column, and (3) convert it to float\n",
    "X_train_anomaly = df_train[df_train['anomaly'] == 1].drop(columns=['anomaly']).to_numpy(dtype=float)\n",
    "# Copy the 'value' column of normal anomaly data\n",
    "y_train_anomaly = X_train_anomaly[:, -1].copy()\n"
   ]
  },
  {
   "cell_type": "code",
   "execution_count": 33,
   "metadata": {},
   "outputs": [],
   "source": [
    "# (1) Get normal testing data, (2) Drop 'anomaly' column, and (3) convert it to float\n",
    "X_test_normal = df_test[df_test['anomaly'] == 0].drop(columns=['anomaly']).to_numpy(dtype=float)\n",
    "# Copy the 'value' column of normal testing data\n",
    "y_test_normal = X_test_normal[:, -1].copy()\n",
    "\n",
    "# (1) Get anomaly testing data, (2) Drop 'anomaly' column, and (3) convert it to float\n",
    "X_test_anomaly = df_test[df_test['anomaly'] == 1].drop(columns=['anomaly']).to_numpy(dtype=float)\n",
    "# Copy the 'value' column of normal anomaly data\n",
    "y_test_anomaly = X_test_anomaly[:, -1].copy()\n"
   ]
  },
  {
   "cell_type": "code",
   "execution_count": 34,
   "metadata": {},
   "outputs": [
    {
     "data": {
      "text/plain": [
       "(7842, 5)"
      ]
     },
     "execution_count": 34,
     "metadata": {},
     "output_type": "execute_result"
    }
   ],
   "source": [
    "X_train_normal.shape"
   ]
  },
  {
   "cell_type": "code",
   "execution_count": 35,
   "metadata": {},
   "outputs": [
    {
     "data": {
      "text/plain": [
       "(414, 5)"
      ]
     },
     "execution_count": 35,
     "metadata": {},
     "output_type": "execute_result"
    }
   ],
   "source": [
    "X_train_anomaly.shape"
   ]
  },
  {
   "cell_type": "code",
   "execution_count": 36,
   "metadata": {},
   "outputs": [
    {
     "data": {
      "text/plain": [
       "(1443, 5)"
      ]
     },
     "execution_count": 36,
     "metadata": {},
     "output_type": "execute_result"
    }
   ],
   "source": [
    "X_test_normal.shape"
   ]
  },
  {
   "cell_type": "code",
   "execution_count": 37,
   "metadata": {},
   "outputs": [
    {
     "data": {
      "text/plain": [
       "(621,)"
      ]
     },
     "execution_count": 37,
     "metadata": {},
     "output_type": "execute_result"
    }
   ],
   "source": [
    "y_test_anomaly.shape"
   ]
  },
  {
   "cell_type": "code",
   "execution_count": 38,
   "metadata": {},
   "outputs": [
    {
     "data": {
      "text/html": [
       "<div>\n",
       "<style scoped>\n",
       "    .dataframe tbody tr th:only-of-type {\n",
       "        vertical-align: middle;\n",
       "    }\n",
       "\n",
       "    .dataframe tbody tr th {\n",
       "        vertical-align: top;\n",
       "    }\n",
       "\n",
       "    .dataframe thead th {\n",
       "        text-align: right;\n",
       "    }\n",
       "</style>\n",
       "<table border=\"1\" class=\"dataframe\">\n",
       "  <thead>\n",
       "    <tr style=\"text-align: right;\">\n",
       "      <th></th>\n",
       "      <th>year</th>\n",
       "      <th>month</th>\n",
       "      <th>day</th>\n",
       "      <th>hour</th>\n",
       "      <th>value</th>\n",
       "    </tr>\n",
       "  </thead>\n",
       "  <tbody>\n",
       "    <tr>\n",
       "      <th>0</th>\n",
       "      <td>2014</td>\n",
       "      <td>7</td>\n",
       "      <td>1</td>\n",
       "      <td>0</td>\n",
       "      <td>10844</td>\n",
       "    </tr>\n",
       "    <tr>\n",
       "      <th>1</th>\n",
       "      <td>2014</td>\n",
       "      <td>7</td>\n",
       "      <td>1</td>\n",
       "      <td>0</td>\n",
       "      <td>8127</td>\n",
       "    </tr>\n",
       "    <tr>\n",
       "      <th>2</th>\n",
       "      <td>2014</td>\n",
       "      <td>7</td>\n",
       "      <td>1</td>\n",
       "      <td>1</td>\n",
       "      <td>6210</td>\n",
       "    </tr>\n",
       "    <tr>\n",
       "      <th>3</th>\n",
       "      <td>2014</td>\n",
       "      <td>7</td>\n",
       "      <td>1</td>\n",
       "      <td>1</td>\n",
       "      <td>4656</td>\n",
       "    </tr>\n",
       "    <tr>\n",
       "      <th>4</th>\n",
       "      <td>2014</td>\n",
       "      <td>7</td>\n",
       "      <td>1</td>\n",
       "      <td>2</td>\n",
       "      <td>3820</td>\n",
       "    </tr>\n",
       "    <tr>\n",
       "      <th>...</th>\n",
       "      <td>...</td>\n",
       "      <td>...</td>\n",
       "      <td>...</td>\n",
       "      <td>...</td>\n",
       "      <td>...</td>\n",
       "    </tr>\n",
       "    <tr>\n",
       "      <th>8251</th>\n",
       "      <td>2014</td>\n",
       "      <td>12</td>\n",
       "      <td>19</td>\n",
       "      <td>21</td>\n",
       "      <td>26403</td>\n",
       "    </tr>\n",
       "    <tr>\n",
       "      <th>8252</th>\n",
       "      <td>2014</td>\n",
       "      <td>12</td>\n",
       "      <td>19</td>\n",
       "      <td>22</td>\n",
       "      <td>26905</td>\n",
       "    </tr>\n",
       "    <tr>\n",
       "      <th>8253</th>\n",
       "      <td>2014</td>\n",
       "      <td>12</td>\n",
       "      <td>19</td>\n",
       "      <td>22</td>\n",
       "      <td>26723</td>\n",
       "    </tr>\n",
       "    <tr>\n",
       "      <th>8254</th>\n",
       "      <td>2014</td>\n",
       "      <td>12</td>\n",
       "      <td>19</td>\n",
       "      <td>23</td>\n",
       "      <td>25807</td>\n",
       "    </tr>\n",
       "    <tr>\n",
       "      <th>8255</th>\n",
       "      <td>2014</td>\n",
       "      <td>12</td>\n",
       "      <td>19</td>\n",
       "      <td>23</td>\n",
       "      <td>26432</td>\n",
       "    </tr>\n",
       "  </tbody>\n",
       "</table>\n",
       "<p>7842 rows × 5 columns</p>\n",
       "</div>"
      ],
      "text/plain": [
       "      year  month  day  hour  value\n",
       "0     2014      7    1     0  10844\n",
       "1     2014      7    1     0   8127\n",
       "2     2014      7    1     1   6210\n",
       "3     2014      7    1     1   4656\n",
       "4     2014      7    1     2   3820\n",
       "...    ...    ...  ...   ...    ...\n",
       "8251  2014     12   19    21  26403\n",
       "8252  2014     12   19    22  26905\n",
       "8253  2014     12   19    22  26723\n",
       "8254  2014     12   19    23  25807\n",
       "8255  2014     12   19    23  26432\n",
       "\n",
       "[7842 rows x 5 columns]"
      ]
     },
     "execution_count": 38,
     "metadata": {},
     "output_type": "execute_result"
    }
   ],
   "source": [
    "df_train[df_train['anomaly'] == 0].drop(columns=['anomaly'])"
   ]
  },
  {
   "cell_type": "code",
   "execution_count": 39,
   "metadata": {},
   "outputs": [
    {
     "data": {
      "text/plain": [
       "array([[2.0140e+03, 7.0000e+00, 1.0000e+00, 0.0000e+00, 1.0844e+04],\n",
       "       [2.0140e+03, 7.0000e+00, 1.0000e+00, 0.0000e+00, 8.1270e+03],\n",
       "       [2.0140e+03, 7.0000e+00, 1.0000e+00, 1.0000e+00, 6.2100e+03],\n",
       "       ...,\n",
       "       [2.0140e+03, 1.2000e+01, 1.9000e+01, 2.2000e+01, 2.6723e+04],\n",
       "       [2.0140e+03, 1.2000e+01, 1.9000e+01, 2.3000e+01, 2.5807e+04],\n",
       "       [2.0140e+03, 1.2000e+01, 1.9000e+01, 2.3000e+01, 2.6432e+04]])"
      ]
     },
     "execution_count": 39,
     "metadata": {},
     "output_type": "execute_result"
    }
   ],
   "source": [
    "X_train_normal"
   ]
  },
  {
   "cell_type": "code",
   "execution_count": 40,
   "metadata": {},
   "outputs": [
    {
     "data": {
      "text/plain": [
       "array([10844.,  8127.,  6210., ..., 26723., 25807., 26432.])"
      ]
     },
     "execution_count": 40,
     "metadata": {},
     "output_type": "execute_result"
    }
   ],
   "source": [
    "y_train_normal"
   ]
  },
  {
   "attachments": {},
   "cell_type": "markdown",
   "metadata": {},
   "source": [
    "# Metrix Calculation"
   ]
  },
  {
   "cell_type": "code",
   "execution_count": 41,
   "metadata": {},
   "outputs": [],
   "source": [
    "from sklearn.metrics import mean_squared_error\n",
    "from sklearn.metrics import mean_absolute_error\n",
    "from sklearn.metrics import mean_absolute_percentage_error\n",
    "from sklearn.preprocessing import MinMaxScaler\n",
    "\n",
    "\n",
    "def RMSE(original, filled):\n",
    "    score = np.sqrt(mean_squared_error(original, filled))\n",
    "    return score\n",
    "\n",
    "\n",
    "def MAE(original, filled):\n",
    "    score = mean_absolute_error(original, filled)\n",
    "    return score\n",
    "\n",
    "\n",
    "def MAPE(original, filled):\n",
    "    score = mean_absolute_percentage_error(original, filled)\n",
    "    return score\n",
    "\n",
    "\n",
    "def metric_calc(original, filled):\n",
    "    y_true = original.reshape(-1, 1)\n",
    "    y = filled.reshape(-1, 1)\n",
    "\n",
    "    scaler = MinMaxScaler()\n",
    "    y_true_scaled = scaler.fit_transform(y_true)\n",
    "    y_scaled = scaler.fit_transform(y)\n",
    "\n",
    "    rmse = RMSE(y_true_scaled, y_scaled)\n",
    "    print(\"RMSE=\", rmse)\n",
    "\n",
    "    mae = MAE(y_true_scaled, y_scaled)\n",
    "    print(\"MAE=\", mae)\n",
    "\n",
    "    mape = MAPE(y_true_scaled, y_scaled)\n",
    "    print(\"MAPE=\", mape)"
   ]
  },
  {
   "attachments": {},
   "cell_type": "markdown",
   "metadata": {},
   "source": [
    "# Finding Threshold"
   ]
  },
  {
   "cell_type": "code",
   "execution_count": 42,
   "metadata": {},
   "outputs": [],
   "source": [
    "def calc_threshold(imputer, X, y, imputed_col=-1):\n",
    "    # Copy the dataset before removing some values\n",
    "    X_nan = np.copy(X)\n",
    "\n",
    "    # Calculate the number of rows to select (10% of the total rows)\n",
    "    num_rows_to_select = int(0.1 * X_nan.shape[0])\n",
    "\n",
    "    # Randomly select row indices to change\n",
    "    random_indices = np.random.choice(X_nan.shape[0], size=num_rows_to_select, replace=False)\n",
    "\n",
    "    # Change the value column to NaN for the selected rows\n",
    "    X_nan[random_indices, imputed_col] = np.nan\n",
    "\n",
    "    X_imputation = imputer.fit_transform(X_nan)\n",
    "\n",
    "    metric_calc(y[random_indices], X_imputation[random_indices, imputed_col])"
   ]
  },
  {
   "attachments": {},
   "cell_type": "markdown",
   "metadata": {},
   "source": [
    "Normal data"
   ]
  },
  {
   "cell_type": "code",
   "execution_count": 43,
   "metadata": {},
   "outputs": [
    {
     "name": "stdout",
     "output_type": "stream",
     "text": [
      "RMSE= 0.10523792191152789\n",
      "MAE= 0.07766683367177697\n",
      "MAPE= 62621187160.206566\n"
     ]
    }
   ],
   "source": [
    "imputer = KNNImputer(n_neighbors=4, weights=\"uniform\")\n",
    "calc_threshold(imputer, X_train_normal, y_train_normal)"
   ]
  },
  {
   "cell_type": "code",
   "execution_count": 44,
   "metadata": {},
   "outputs": [
    {
     "name": "stdout",
     "output_type": "stream",
     "text": [
      "RMSE= 0.10498989181476096\n",
      "MAE= 0.07156172917660168\n",
      "MAPE= 0.16082960909292474\n"
     ]
    }
   ],
   "source": [
    "imputer = KNNImputer(n_neighbors=4, weights=\"uniform\")\n",
    "calc_threshold(imputer, X_train_anomaly, y_train_anomaly)"
   ]
  },
  {
   "cell_type": "code",
   "execution_count": 45,
   "metadata": {},
   "outputs": [
    {
     "name": "stdout",
     "output_type": "stream",
     "text": [
      "RMSE= 0.09317761917091626\n",
      "MAE= 0.0647567524329333\n",
      "MAPE= 0.3977597955614908\n"
     ]
    }
   ],
   "source": [
    "imputer = KNNImputer(n_neighbors=4, weights=\"uniform\")\n",
    "calc_threshold(imputer, X_test_normal, y_test_normal)"
   ]
  },
  {
   "cell_type": "code",
   "execution_count": 46,
   "metadata": {},
   "outputs": [
    {
     "name": "stdout",
     "output_type": "stream",
     "text": [
      "RMSE= 0.10808187722814311\n",
      "MAE= 0.07771261193736982\n",
      "MAPE= 0.2907825308376493\n"
     ]
    }
   ],
   "source": [
    "imputer = KNNImputer(n_neighbors=4, weights=\"uniform\")\n",
    "calc_threshold(imputer, X_test_anomaly, y_test_anomaly)"
   ]
  },
  {
   "cell_type": "code",
   "execution_count": null,
   "metadata": {},
   "outputs": [],
   "source": []
  },
  {
   "cell_type": "code",
   "execution_count": 47,
   "metadata": {},
   "outputs": [],
   "source": [
    "# Calculate the number of rows to select (10% of the total rows)\n",
    "num_rows_to_select = int(0.1 * X_train_normal.shape[0])\n",
    "\n",
    "# Randomly select row indices to change\n",
    "random_indices = np.random.choice(X_train_normal.shape[0], size=num_rows_to_select, replace=False)\n",
    "\n",
    "# Change the value column to NaN for the selected rows\n",
    "X_train_normal[random_indices, -1] = np.nan"
   ]
  },
  {
   "cell_type": "code",
   "execution_count": 48,
   "metadata": {},
   "outputs": [],
   "source": [
    "imputer = KNNImputer(n_neighbors=4, weights=\"uniform\")\n",
    "X_train_imputation = imputer.fit_transform(X_train_normal)"
   ]
  },
  {
   "cell_type": "code",
   "execution_count": 49,
   "metadata": {},
   "outputs": [
    {
     "name": "stdout",
     "output_type": "stream",
     "text": [
      "RMSE= 0.10828293487949135\n",
      "MAE= 0.08343701398638009\n",
      "MAPE= 104303084688.94331\n"
     ]
    }
   ],
   "source": [
    "metric_calc(y_train_normal[random_indices], X_train_imputation[random_indices, -1])"
   ]
  },
  {
   "attachments": {},
   "cell_type": "markdown",
   "metadata": {},
   "source": [
    "Anomaly data"
   ]
  },
  {
   "cell_type": "code",
   "execution_count": 50,
   "metadata": {},
   "outputs": [],
   "source": [
    "# Calculate the number of rows to select (10% of the total rows)\n",
    "num_rows_to_select = int(0.1 * X_train_anomaly.shape[0])\n",
    "\n",
    "# Randomly select row indices to change\n",
    "random_indices = np.random.choice(X_train_anomaly.shape[0], size=num_rows_to_select, replace=False)\n",
    "\n",
    "# Change the value column to NaN for the selected rows\n",
    "X_train_anomaly[random_indices, -1] = np.nan"
   ]
  },
  {
   "cell_type": "code",
   "execution_count": 51,
   "metadata": {},
   "outputs": [],
   "source": [
    "imputer = KNNImputer(n_neighbors=4, weights=\"uniform\")\n",
    "X_train_imputation = imputer.fit_transform(X_train_anomaly)"
   ]
  },
  {
   "cell_type": "code",
   "execution_count": 52,
   "metadata": {},
   "outputs": [
    {
     "data": {
      "text/plain": [
       "(41, 5)"
      ]
     },
     "execution_count": 52,
     "metadata": {},
     "output_type": "execute_result"
    }
   ],
   "source": [
    "X_train_anomaly[random_indices].shape"
   ]
  },
  {
   "cell_type": "code",
   "execution_count": 53,
   "metadata": {},
   "outputs": [
    {
     "data": {
      "text/plain": [
       "(41,)"
      ]
     },
     "execution_count": 53,
     "metadata": {},
     "output_type": "execute_result"
    }
   ],
   "source": [
    "X_train_imputation[random_indices, -1].shape"
   ]
  },
  {
   "cell_type": "code",
   "execution_count": 54,
   "metadata": {},
   "outputs": [
    {
     "name": "stdout",
     "output_type": "stream",
     "text": [
      "RMSE= 0.1108337396993559\n",
      "MAE= 0.08400304599836739\n",
      "MAPE= 1996924814148.8506\n"
     ]
    }
   ],
   "source": [
    "metric_calc(y_train_anomaly[random_indices], X_train_imputation[random_indices, -1])"
   ]
  }
 ],
 "metadata": {
  "kernelspec": {
   "display_name": "missingpy",
   "language": "python",
   "name": "python3"
  },
  "language_info": {
   "codemirror_mode": {
    "name": "ipython",
    "version": 3
   },
   "file_extension": ".py",
   "mimetype": "text/x-python",
   "name": "python",
   "nbconvert_exporter": "python",
   "pygments_lexer": "ipython3",
   "version": "3.9.16"
  },
  "orig_nbformat": 4
 },
 "nbformat": 4,
 "nbformat_minor": 2
}
