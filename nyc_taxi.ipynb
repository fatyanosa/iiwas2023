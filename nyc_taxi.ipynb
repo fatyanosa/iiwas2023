{
 "cells": [
  {
   "cell_type": "code",
   "execution_count": 1,
   "metadata": {},
   "outputs": [],
   "source": [
    "import numpy as np\n",
    "import pandas as pd\n",
    "import seaborn as sns\n",
    "import matplotlib.pyplot as plt\n",
    "\n",
    "from sklearn.metrics import confusion_matrix, precision_score, recall_score, f1_score\n"
   ]
  },
  {
   "attachments": {},
   "cell_type": "markdown",
   "metadata": {},
   "source": [
    "# Reading Dataset"
   ]
  },
  {
   "cell_type": "code",
   "execution_count": 3,
   "metadata": {},
   "outputs": [
    {
     "data": {
      "text/html": [
       "<div>\n",
       "<style scoped>\n",
       "    .dataframe tbody tr th:only-of-type {\n",
       "        vertical-align: middle;\n",
       "    }\n",
       "\n",
       "    .dataframe tbody tr th {\n",
       "        vertical-align: top;\n",
       "    }\n",
       "\n",
       "    .dataframe thead th {\n",
       "        text-align: right;\n",
       "    }\n",
       "</style>\n",
       "<table border=\"1\" class=\"dataframe\">\n",
       "  <thead>\n",
       "    <tr style=\"text-align: right;\">\n",
       "      <th></th>\n",
       "      <th>timestamp</th>\n",
       "      <th>value</th>\n",
       "      <th>anomaly</th>\n",
       "    </tr>\n",
       "  </thead>\n",
       "  <tbody>\n",
       "    <tr>\n",
       "      <th>0</th>\n",
       "      <td>2014-07-01 00:00:00</td>\n",
       "      <td>10844</td>\n",
       "      <td>1</td>\n",
       "    </tr>\n",
       "    <tr>\n",
       "      <th>1</th>\n",
       "      <td>2014-07-01 00:30:00</td>\n",
       "      <td>8127</td>\n",
       "      <td>1</td>\n",
       "    </tr>\n",
       "    <tr>\n",
       "      <th>2</th>\n",
       "      <td>2014-07-01 01:00:00</td>\n",
       "      <td>6210</td>\n",
       "      <td>1</td>\n",
       "    </tr>\n",
       "    <tr>\n",
       "      <th>3</th>\n",
       "      <td>2014-07-01 01:30:00</td>\n",
       "      <td>4656</td>\n",
       "      <td>1</td>\n",
       "    </tr>\n",
       "    <tr>\n",
       "      <th>4</th>\n",
       "      <td>2014-07-01 02:00:00</td>\n",
       "      <td>3820</td>\n",
       "      <td>1</td>\n",
       "    </tr>\n",
       "    <tr>\n",
       "      <th>...</th>\n",
       "      <td>...</td>\n",
       "      <td>...</td>\n",
       "      <td>...</td>\n",
       "    </tr>\n",
       "    <tr>\n",
       "      <th>10315</th>\n",
       "      <td>2015-01-31 21:30:00</td>\n",
       "      <td>24670</td>\n",
       "      <td>1</td>\n",
       "    </tr>\n",
       "    <tr>\n",
       "      <th>10316</th>\n",
       "      <td>2015-01-31 22:00:00</td>\n",
       "      <td>25721</td>\n",
       "      <td>1</td>\n",
       "    </tr>\n",
       "    <tr>\n",
       "      <th>10317</th>\n",
       "      <td>2015-01-31 22:30:00</td>\n",
       "      <td>27309</td>\n",
       "      <td>1</td>\n",
       "    </tr>\n",
       "    <tr>\n",
       "      <th>10318</th>\n",
       "      <td>2015-01-31 23:00:00</td>\n",
       "      <td>26591</td>\n",
       "      <td>1</td>\n",
       "    </tr>\n",
       "    <tr>\n",
       "      <th>10319</th>\n",
       "      <td>2015-01-31 23:30:00</td>\n",
       "      <td>26288</td>\n",
       "      <td>1</td>\n",
       "    </tr>\n",
       "  </tbody>\n",
       "</table>\n",
       "<p>10320 rows × 3 columns</p>\n",
       "</div>"
      ],
      "text/plain": [
       "                timestamp  value  anomaly\n",
       "0     2014-07-01 00:00:00  10844        1\n",
       "1     2014-07-01 00:30:00   8127        1\n",
       "2     2014-07-01 01:00:00   6210        1\n",
       "3     2014-07-01 01:30:00   4656        1\n",
       "4     2014-07-01 02:00:00   3820        1\n",
       "...                   ...    ...      ...\n",
       "10315 2015-01-31 21:30:00  24670        1\n",
       "10316 2015-01-31 22:00:00  25721        1\n",
       "10317 2015-01-31 22:30:00  27309        1\n",
       "10318 2015-01-31 23:00:00  26591        1\n",
       "10319 2015-01-31 23:30:00  26288        1\n",
       "\n",
       "[10320 rows x 3 columns]"
      ]
     },
     "execution_count": 3,
     "metadata": {},
     "output_type": "execute_result"
    }
   ],
   "source": [
    "# Read the dataset\n",
    "raw = pd.read_csv('/nas.dbms/mahendra.data/Documents/annotation/NAB/data/realKnownCause/nyc_taxi.csv',low_memory=False)\n",
    "raw['timestamp'] = pd.to_datetime(raw['timestamp'])\n",
    "\n",
    "\n",
    "# The times of anomaly events (Ground Truth)\n",
    "anomaly_points = [\n",
    "        [\n",
    "            \"2014-10-30 15:30:00.000000\",\n",
    "            \"2014-11-03 22:30:00.000000\"\n",
    "        ],\n",
    "        [\n",
    "            \"2014-11-25 12:00:00.000000\",\n",
    "            \"2014-11-29 19:00:00.000000\"\n",
    "        ],\n",
    "        [\n",
    "            \"2014-12-23 11:30:00.000000\",\n",
    "            \"2014-12-27 18:30:00.000000\"\n",
    "        ],\n",
    "        [\n",
    "            \"2014-12-29 21:30:00.000000\",\n",
    "            \"2015-01-03 04:30:00.000000\"\n",
    "        ],\n",
    "        [\n",
    "            \"2015-01-24 20:30:00.000000\",\n",
    "            \"2015-01-29 03:30:00.000000\"\n",
    "        ]\n",
    "]\n",
    "\n",
    "# Labeling: if anomaly then 1 else 0\n",
    "raw['anomaly'] = 1  # Set default values\n",
    "for start, end in anomaly_points:\n",
    "    raw.loc[((raw['timestamp'] >= start) & (raw['timestamp'] <= end)), 'anomaly'] = -1\n",
    "\n",
    "# Preview labeled raw dataset\n",
    "raw"
   ]
  },
  {
   "cell_type": "code",
   "execution_count": 4,
   "metadata": {},
   "outputs": [
    {
     "data": {
      "text/plain": [
       " 1    9285\n",
       "-1    1035\n",
       "Name: anomaly, dtype: int64"
      ]
     },
     "execution_count": 4,
     "metadata": {},
     "output_type": "execute_result"
    }
   ],
   "source": [
    "raw['anomaly'].value_counts()"
   ]
  },
  {
   "attachments": {},
   "cell_type": "markdown",
   "metadata": {},
   "source": [
    "# Preprocessing"
   ]
  },
  {
   "cell_type": "code",
   "execution_count": 5,
   "metadata": {},
   "outputs": [],
   "source": [
    "# Convert the timestamp\n",
    "df = pd.DataFrame()\n",
    "df['year'] = raw['timestamp'].dt.year\n",
    "df['month'] = raw['timestamp'].dt.month\n",
    "df['day'] = raw['timestamp'].dt.day\n",
    "df['hour'] = raw['timestamp'].dt.hour\n",
    "df['value'] = raw['value']\n",
    "df['anomaly'] = raw['anomaly']\n",
    "\n",
    "# delete unused dataframe\n",
    "del raw"
   ]
  },
  {
   "cell_type": "code",
   "execution_count": 6,
   "metadata": {},
   "outputs": [
    {
     "data": {
      "text/html": [
       "<div>\n",
       "<style scoped>\n",
       "    .dataframe tbody tr th:only-of-type {\n",
       "        vertical-align: middle;\n",
       "    }\n",
       "\n",
       "    .dataframe tbody tr th {\n",
       "        vertical-align: top;\n",
       "    }\n",
       "\n",
       "    .dataframe thead th {\n",
       "        text-align: right;\n",
       "    }\n",
       "</style>\n",
       "<table border=\"1\" class=\"dataframe\">\n",
       "  <thead>\n",
       "    <tr style=\"text-align: right;\">\n",
       "      <th></th>\n",
       "      <th>year</th>\n",
       "      <th>month</th>\n",
       "      <th>day</th>\n",
       "      <th>hour</th>\n",
       "      <th>value</th>\n",
       "      <th>anomaly</th>\n",
       "    </tr>\n",
       "  </thead>\n",
       "  <tbody>\n",
       "    <tr>\n",
       "      <th>0</th>\n",
       "      <td>2014</td>\n",
       "      <td>7</td>\n",
       "      <td>1</td>\n",
       "      <td>0</td>\n",
       "      <td>10844</td>\n",
       "      <td>1</td>\n",
       "    </tr>\n",
       "    <tr>\n",
       "      <th>1</th>\n",
       "      <td>2014</td>\n",
       "      <td>7</td>\n",
       "      <td>1</td>\n",
       "      <td>0</td>\n",
       "      <td>8127</td>\n",
       "      <td>1</td>\n",
       "    </tr>\n",
       "    <tr>\n",
       "      <th>2</th>\n",
       "      <td>2014</td>\n",
       "      <td>7</td>\n",
       "      <td>1</td>\n",
       "      <td>1</td>\n",
       "      <td>6210</td>\n",
       "      <td>1</td>\n",
       "    </tr>\n",
       "    <tr>\n",
       "      <th>3</th>\n",
       "      <td>2014</td>\n",
       "      <td>7</td>\n",
       "      <td>1</td>\n",
       "      <td>1</td>\n",
       "      <td>4656</td>\n",
       "      <td>1</td>\n",
       "    </tr>\n",
       "    <tr>\n",
       "      <th>4</th>\n",
       "      <td>2014</td>\n",
       "      <td>7</td>\n",
       "      <td>1</td>\n",
       "      <td>2</td>\n",
       "      <td>3820</td>\n",
       "      <td>1</td>\n",
       "    </tr>\n",
       "    <tr>\n",
       "      <th>...</th>\n",
       "      <td>...</td>\n",
       "      <td>...</td>\n",
       "      <td>...</td>\n",
       "      <td>...</td>\n",
       "      <td>...</td>\n",
       "      <td>...</td>\n",
       "    </tr>\n",
       "    <tr>\n",
       "      <th>10315</th>\n",
       "      <td>2015</td>\n",
       "      <td>1</td>\n",
       "      <td>31</td>\n",
       "      <td>21</td>\n",
       "      <td>24670</td>\n",
       "      <td>1</td>\n",
       "    </tr>\n",
       "    <tr>\n",
       "      <th>10316</th>\n",
       "      <td>2015</td>\n",
       "      <td>1</td>\n",
       "      <td>31</td>\n",
       "      <td>22</td>\n",
       "      <td>25721</td>\n",
       "      <td>1</td>\n",
       "    </tr>\n",
       "    <tr>\n",
       "      <th>10317</th>\n",
       "      <td>2015</td>\n",
       "      <td>1</td>\n",
       "      <td>31</td>\n",
       "      <td>22</td>\n",
       "      <td>27309</td>\n",
       "      <td>1</td>\n",
       "    </tr>\n",
       "    <tr>\n",
       "      <th>10318</th>\n",
       "      <td>2015</td>\n",
       "      <td>1</td>\n",
       "      <td>31</td>\n",
       "      <td>23</td>\n",
       "      <td>26591</td>\n",
       "      <td>1</td>\n",
       "    </tr>\n",
       "    <tr>\n",
       "      <th>10319</th>\n",
       "      <td>2015</td>\n",
       "      <td>1</td>\n",
       "      <td>31</td>\n",
       "      <td>23</td>\n",
       "      <td>26288</td>\n",
       "      <td>1</td>\n",
       "    </tr>\n",
       "  </tbody>\n",
       "</table>\n",
       "<p>10320 rows × 6 columns</p>\n",
       "</div>"
      ],
      "text/plain": [
       "       year  month  day  hour  value  anomaly\n",
       "0      2014      7    1     0  10844        1\n",
       "1      2014      7    1     0   8127        1\n",
       "2      2014      7    1     1   6210        1\n",
       "3      2014      7    1     1   4656        1\n",
       "4      2014      7    1     2   3820        1\n",
       "...     ...    ...  ...   ...    ...      ...\n",
       "10315  2015      1   31    21  24670        1\n",
       "10316  2015      1   31    22  25721        1\n",
       "10317  2015      1   31    22  27309        1\n",
       "10318  2015      1   31    23  26591        1\n",
       "10319  2015      1   31    23  26288        1\n",
       "\n",
       "[10320 rows x 6 columns]"
      ]
     },
     "execution_count": 6,
     "metadata": {},
     "output_type": "execute_result"
    }
   ],
   "source": [
    "# Preview dataset\n",
    "df"
   ]
  },
  {
   "cell_type": "code",
   "execution_count": 7,
   "metadata": {},
   "outputs": [],
   "source": [
    "# Calculate 80% of the number of rows for training\n",
    "num_rows = int(0.8 * len(df))\n",
    "\n",
    "# Get the first part of the DataFrame\n",
    "df_train = df[:num_rows]\n",
    "# Get the remaining part of the DataFrame\n",
    "df_test = df[num_rows:]\n",
    "\n",
    "# delete unused dataframe\n",
    "del df"
   ]
  },
  {
   "cell_type": "code",
   "execution_count": 8,
   "metadata": {},
   "outputs": [
    {
     "data": {
      "text/plain": [
       " 1    7842\n",
       "-1     414\n",
       "Name: anomaly, dtype: int64"
      ]
     },
     "execution_count": 8,
     "metadata": {},
     "output_type": "execute_result"
    }
   ],
   "source": [
    "df_train['anomaly'].value_counts()"
   ]
  },
  {
   "cell_type": "code",
   "execution_count": 9,
   "metadata": {},
   "outputs": [
    {
     "data": {
      "text/plain": [
       " 1    1443\n",
       "-1     621\n",
       "Name: anomaly, dtype: int64"
      ]
     },
     "execution_count": 9,
     "metadata": {},
     "output_type": "execute_result"
    }
   ],
   "source": [
    "df_test['anomaly'].value_counts()"
   ]
  },
  {
   "attachments": {},
   "cell_type": "markdown",
   "metadata": {},
   "source": [
    "# Helper Functions"
   ]
  },
  {
   "cell_type": "code",
   "execution_count": 10,
   "metadata": {},
   "outputs": [],
   "source": [
    "def plot_cm(cm):\n",
    "    plt.close()\n",
    "    # plt.figure(figsize=(8,8))\n",
    "    # sns.set(font_scale = 1.5)\n",
    "\n",
    "    ax = sns.heatmap(\n",
    "        cm, # confusion matrix 2D array \n",
    "        annot=True, # show numbers in the cells\n",
    "        fmt='d', # show numbers as integers\n",
    "        xticklabels=[-1,1],\n",
    "        yticklabels=[-1,1],\n",
    "        # cbar=False, # don't show the color bar\n",
    "        # cmap='flag', # customize color map\n",
    "        # vmin=200, # to get better color contrast\n",
    "        # vmax=800 # to get better color contrast\n",
    "    )\n",
    "\n",
    "    ax.set_xlabel(\"Predicted\")\n",
    "    ax.set_ylabel(\"Actual\")\n",
    "    plt.show()\n",
    "\n",
    "\n",
    "def show_matrix(y, y_pred):\n",
    "    ps = precision_score(y, y_pred, pos_label=-1, labels=[-1, 1])\n",
    "    print(\"precision_score: %.2f\" % ps)\n",
    "\n",
    "    rs = recall_score(y, y_pred, pos_label=-1, labels=[-1, 1])\n",
    "    print(\"recall_score: %.2f\" % rs)\n",
    "\n",
    "    f1 = f1_score(y, y_pred, pos_label=-1, labels=[-1, 1])\n",
    "    print(\"f1_score: %.2f\" % f1)\n",
    "\n",
    "    cm = confusion_matrix(y, y_pred, labels=[-1, 1])\n",
    "    # print(\"conf_matrix\")\n",
    "    # print(cm)\n",
    "    plot_cm(cm)"
   ]
  },
  {
   "attachments": {},
   "cell_type": "markdown",
   "metadata": {},
   "source": [
    "# IsolationForest"
   ]
  },
  {
   "cell_type": "code",
   "execution_count": 11,
   "metadata": {},
   "outputs": [],
   "source": [
    "# X_train = df_train[['value']].to_numpy()\n",
    "X_train = df_train.drop(columns='anomaly').to_numpy()\n",
    "y_train = df_train['anomaly'].to_numpy()\n",
    "\n",
    "# X_test = df_test[['value']].to_numpy()\n",
    "X_test = df_test.drop(columns='anomaly').to_numpy()\n",
    "y_test = df_test['anomaly'].to_numpy()"
   ]
  },
  {
   "cell_type": "code",
   "execution_count": 12,
   "metadata": {},
   "outputs": [
    {
     "name": "stdout",
     "output_type": "stream",
     "text": [
      "Train\n",
      "precision_score: 0.07\n",
      "recall_score: 0.94\n",
      "f1_score: 0.13\n"
     ]
    },
    {
     "data": {
      "image/png": "[encoded data removed]",
      "text/plain": [
       "<Figure size 640x480 with 2 Axes>"
      ]
     },
     "metadata": {},
     "output_type": "display_data"
    },
    {
     "name": "stdout",
     "output_type": "stream",
     "text": [
      "Test\n",
      "precision_score: 0.34\n",
      "recall_score: 0.99\n",
      "f1_score: 0.50\n"
     ]
    },
    {
     "data": {
      "image/png": "[encoded data removed]",
      "text/plain": [
       "<Figure size 640x480 with 2 Axes>"
      ]
     },
     "metadata": {},
     "output_type": "display_data"
    }
   ],
   "source": [
    "from sklearn.ensemble import IsolationForest\n",
    "\n",
    "# Fit the Isolation Forest model\n",
    "clf = IsolationForest(n_estimators=200)\n",
    "clf.fit(X_train)\n",
    "\n",
    "# Predict the anomalies\n",
    "y_pred_train = clf.predict(X_train)\n",
    "y_pred_test = clf.predict(X_test)\n",
    "\n",
    "print(\"Train\")\n",
    "show_matrix(y_train, y_pred_train)\n",
    "\n",
    "print(\"Test\")\n",
    "show_matrix(y_test, y_pred_test)\n"
   ]
  },
  {
   "attachments": {},
   "cell_type": "markdown",
   "metadata": {},
   "source": [
    "# LocalOutlierFactor"
   ]
  },
  {
   "cell_type": "code",
   "execution_count": 13,
   "metadata": {},
   "outputs": [
    {
     "name": "stdout",
     "output_type": "stream",
     "text": [
      "Train\n",
      "precision_score: 0.13\n",
      "recall_score: 0.01\n",
      "f1_score: 0.02\n"
     ]
    },
    {
     "data": {
      "image/png": "[encoded data removed]",
      "text/plain": [
       "<Figure size 640x480 with 2 Axes>"
      ]
     },
     "metadata": {},
     "output_type": "display_data"
    },
    {
     "name": "stdout",
     "output_type": "stream",
     "text": [
      "Test\n",
      "precision_score: 0.61\n",
      "recall_score: 0.04\n",
      "f1_score: 0.08\n"
     ]
    },
    {
     "data": {
      "image/png": "[encoded data removed]",
      "text/plain": [
       "<Figure size 640x480 with 2 Axes>"
      ]
     },
     "metadata": {},
     "output_type": "display_data"
    }
   ],
   "source": [
    "from sklearn.neighbors import LocalOutlierFactor\n",
    "\n",
    "# Fit the Local Outlier Factor model\n",
    "clf = LocalOutlierFactor(n_neighbors=200)\n",
    "y_pred_train = clf.fit_predict(X_train)\n",
    "\n",
    "# Generate some test data\n",
    "y_pred_test = clf.fit_predict(X_test)\n",
    "\n",
    "print(\"Train\")\n",
    "show_matrix(y_train, y_pred_train)\n",
    "\n",
    "print(\"Test\")\n",
    "show_matrix(y_test, y_pred_test)\n"
   ]
  },
  {
   "cell_type": "code",
   "execution_count": 14,
   "metadata": {},
   "outputs": [
    {
     "data": {
      "text/plain": [
       "array([ 1,  1,  1, ..., -1,  1,  1])"
      ]
     },
     "execution_count": 14,
     "metadata": {},
     "output_type": "execute_result"
    }
   ],
   "source": [
    "y_pred_test"
   ]
  },
  {
   "attachments": {},
   "cell_type": "markdown",
   "metadata": {},
   "source": [
    "# OneClassSVM"
   ]
  },
  {
   "cell_type": "code",
   "execution_count": 15,
   "metadata": {},
   "outputs": [
    {
     "name": "stdout",
     "output_type": "stream",
     "text": [
      "Train\n",
      "precision_score: 0.05\n",
      "recall_score: 0.72\n",
      "f1_score: 0.10\n"
     ]
    },
    {
     "data": {
      "image/png": "[encoded data removed]",
      "text/plain": [
       "<Figure size 640x480 with 2 Axes>"
      ]
     },
     "metadata": {},
     "output_type": "display_data"
    },
    {
     "name": "stdout",
     "output_type": "stream",
     "text": [
      "Test\n",
      "precision_score: 0.30\n",
      "recall_score: 1.00\n",
      "f1_score: 0.46\n"
     ]
    },
    {
     "data": {
      "image/png": "[encoded data removed]",
      "text/plain": [
       "<Figure size 640x480 with 2 Axes>"
      ]
     },
     "metadata": {},
     "output_type": "display_data"
    }
   ],
   "source": [
    "from sklearn.svm import OneClassSVM\n",
    "\n",
    "# Fit the One-Class SVM model\n",
    "clf = OneClassSVM(gamma='auto')\n",
    "clf.fit(X_train)\n",
    "\n",
    "# Predict the outliers\n",
    "y_pred_train = clf.predict(X_train)\n",
    "y_pred_test = clf.predict(X_test)\n",
    "\n",
    "print(\"Train\")\n",
    "show_matrix(y_train, y_pred_train)\n",
    "\n",
    "print(\"Test\")\n",
    "show_matrix(y_test, y_pred_test)\n"
   ]
  },
  {
   "cell_type": "code",
   "execution_count": null,
   "metadata": {},
   "outputs": [],
   "source": []
  },
  {
   "cell_type": "code",
   "execution_count": null,
   "metadata": {},
   "outputs": [],
   "source": []
  }
 ],
 "metadata": {
  "kernelspec": {
   "display_name": "missingpy",
   "language": "python",
   "name": "python3"
  },
  "language_info": {
   "codemirror_mode": {
    "name": "ipython",
    "version": 3
   },
   "file_extension": ".py",
   "mimetype": "text/x-python",
   "name": "python",
   "nbconvert_exporter": "python",
   "pygments_lexer": "ipython3",
   "version": "3.9.16"
  },
  "orig_nbformat": 4
 },
 "nbformat": 4,
 "nbformat_minor": 2
}
