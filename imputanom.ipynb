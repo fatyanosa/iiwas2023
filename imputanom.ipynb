{
 "cells": [
  {
   "cell_type": "code",
   "execution_count": 43,
   "metadata": {},
   "outputs": [],
   "source": [
    "import pandas as pd\n",
    "import scipy.stats as stats\n",
    "from sklearn.svm import OneClassSVM\n",
    "from sklearn.metrics import f1_score\n",
    "from missingpy import MissForest\n",
    "import sys\n",
    "import sklearn.neighbors._base\n",
    "\n",
    "sys.modules[\"sklearn.neighbors.base\"] = sklearn.neighbors._base\n",
    "from sklearn.impute import SimpleImputer, KNNImputer"
   ]
  },
  {
   "cell_type": "code",
   "execution_count": 44,
   "metadata": {},
   "outputs": [],
   "source": [
    "# nyc_taxi, ambient_temperature_system_failure machine_temperature_system_failure, rogue_agent_key_updown\n"
   ]
  },
  {
   "cell_type": "code",
   "execution_count": 45,
   "metadata": {},
   "outputs": [
    {
     "data": {
      "text/html": [
       "<div>\n",
       "<style scoped>\n",
       "    .dataframe tbody tr th:only-of-type {\n",
       "        vertical-align: middle;\n",
       "    }\n",
       "\n",
       "    .dataframe tbody tr th {\n",
       "        vertical-align: top;\n",
       "    }\n",
       "\n",
       "    .dataframe thead th {\n",
       "        text-align: right;\n",
       "    }\n",
       "</style>\n",
       "<table border=\"1\" class=\"dataframe\">\n",
       "  <thead>\n",
       "    <tr style=\"text-align: right;\">\n",
       "      <th></th>\n",
       "      <th>timestamp</th>\n",
       "      <th>value</th>\n",
       "    </tr>\n",
       "  </thead>\n",
       "  <tbody>\n",
       "    <tr>\n",
       "      <th>0</th>\n",
       "      <td>2014-07-06 20:10:00</td>\n",
       "      <td>1.047256</td>\n",
       "    </tr>\n",
       "    <tr>\n",
       "      <th>1</th>\n",
       "      <td>2014-07-06 20:15:00</td>\n",
       "      <td>1.848031</td>\n",
       "    </tr>\n",
       "    <tr>\n",
       "      <th>2</th>\n",
       "      <td>2014-07-06 20:20:00</td>\n",
       "      <td>1.297892</td>\n",
       "    </tr>\n",
       "  </tbody>\n",
       "</table>\n",
       "</div>"
      ],
      "text/plain": [
       "             timestamp     value\n",
       "0  2014-07-06 20:10:00  1.047256\n",
       "1  2014-07-06 20:15:00  1.848031\n",
       "2  2014-07-06 20:20:00  1.297892"
      ]
     },
     "execution_count": 45,
     "metadata": {},
     "output_type": "execute_result"
    }
   ],
   "source": [
    "df = pd.read_csv(\"data/rogue_agent_key_updown.csv\",low_memory=False)\n",
    "df.head(3)"
   ]
  },
  {
   "cell_type": "code",
   "execution_count": 46,
   "metadata": {},
   "outputs": [],
   "source": [
    "anomaly_points = [\n",
    "        [\n",
    "            \"2014-07-14 17:00:00.000000\",\n",
    "            \"2014-07-15 15:00:00.000000\"\n",
    "        ],\n",
    "        [\n",
    "            \"2014-07-16 21:50:00.000000\",\n",
    "            \"2014-07-17 19:50:00.000000\"\n",
    "        ]\n",
    "]"
   ]
  },
  {
   "cell_type": "code",
   "execution_count": 47,
   "metadata": {},
   "outputs": [],
   "source": [
    "df['timestamp'] = pd.to_datetime(df['timestamp'])\n",
    "#is anomaly? : True => 1, False => 0\n",
    "df['anomaly'] = 0\n",
    "for start, end in anomaly_points:\n",
    "    df.loc[((df['timestamp'] >= start) & (df['timestamp'] <= end)), 'anomaly'] = 1"
   ]
  },
  {
   "cell_type": "code",
   "execution_count": 48,
   "metadata": {},
   "outputs": [
    {
     "data": {
      "text/html": [
       "<div>\n",
       "<style scoped>\n",
       "    .dataframe tbody tr th:only-of-type {\n",
       "        vertical-align: middle;\n",
       "    }\n",
       "\n",
       "    .dataframe tbody tr th {\n",
       "        vertical-align: top;\n",
       "    }\n",
       "\n",
       "    .dataframe thead th {\n",
       "        text-align: right;\n",
       "    }\n",
       "</style>\n",
       "<table border=\"1\" class=\"dataframe\">\n",
       "  <thead>\n",
       "    <tr style=\"text-align: right;\">\n",
       "      <th></th>\n",
       "      <th>value</th>\n",
       "      <th>anomaly</th>\n",
       "    </tr>\n",
       "    <tr>\n",
       "      <th>timestamp</th>\n",
       "      <th></th>\n",
       "      <th></th>\n",
       "    </tr>\n",
       "  </thead>\n",
       "  <tbody>\n",
       "    <tr>\n",
       "      <th>2014-07-14 17:00:00</th>\n",
       "      <td>0.000000</td>\n",
       "      <td>1</td>\n",
       "    </tr>\n",
       "    <tr>\n",
       "      <th>2014-07-14 17:05:00</th>\n",
       "      <td>0.000000</td>\n",
       "      <td>1</td>\n",
       "    </tr>\n",
       "    <tr>\n",
       "      <th>2014-07-14 17:10:00</th>\n",
       "      <td>4.805612</td>\n",
       "      <td>1</td>\n",
       "    </tr>\n",
       "    <tr>\n",
       "      <th>2014-07-14 17:15:00</th>\n",
       "      <td>1.546595</td>\n",
       "      <td>1</td>\n",
       "    </tr>\n",
       "    <tr>\n",
       "      <th>2014-07-14 17:20:00</th>\n",
       "      <td>1.211436</td>\n",
       "      <td>1</td>\n",
       "    </tr>\n",
       "    <tr>\n",
       "      <th>...</th>\n",
       "      <td>...</td>\n",
       "      <td>...</td>\n",
       "    </tr>\n",
       "    <tr>\n",
       "      <th>2014-07-17 19:30:00</th>\n",
       "      <td>0.000000</td>\n",
       "      <td>1</td>\n",
       "    </tr>\n",
       "    <tr>\n",
       "      <th>2014-07-17 19:35:00</th>\n",
       "      <td>0.000000</td>\n",
       "      <td>1</td>\n",
       "    </tr>\n",
       "    <tr>\n",
       "      <th>2014-07-17 19:40:00</th>\n",
       "      <td>0.000000</td>\n",
       "      <td>1</td>\n",
       "    </tr>\n",
       "    <tr>\n",
       "      <th>2014-07-17 19:45:00</th>\n",
       "      <td>0.000000</td>\n",
       "      <td>1</td>\n",
       "    </tr>\n",
       "    <tr>\n",
       "      <th>2014-07-17 19:50:00</th>\n",
       "      <td>0.000000</td>\n",
       "      <td>1</td>\n",
       "    </tr>\n",
       "  </tbody>\n",
       "</table>\n",
       "<p>530 rows × 2 columns</p>\n",
       "</div>"
      ],
      "text/plain": [
       "                        value  anomaly\n",
       "timestamp                             \n",
       "2014-07-14 17:00:00  0.000000        1\n",
       "2014-07-14 17:05:00  0.000000        1\n",
       "2014-07-14 17:10:00  4.805612        1\n",
       "2014-07-14 17:15:00  1.546595        1\n",
       "2014-07-14 17:20:00  1.211436        1\n",
       "...                       ...      ...\n",
       "2014-07-17 19:30:00  0.000000        1\n",
       "2014-07-17 19:35:00  0.000000        1\n",
       "2014-07-17 19:40:00  0.000000        1\n",
       "2014-07-17 19:45:00  0.000000        1\n",
       "2014-07-17 19:50:00  0.000000        1\n",
       "\n",
       "[530 rows x 2 columns]"
      ]
     },
     "execution_count": 48,
     "metadata": {},
     "output_type": "execute_result"
    }
   ],
   "source": [
    "df.index = df['timestamp']\n",
    "df.drop(['timestamp'], axis=1, inplace=True)\n",
    "df.loc[df['anomaly'] == 1]"
   ]
  },
  {
   "cell_type": "code",
   "execution_count": 49,
   "metadata": {},
   "outputs": [
    {
     "name": "stdout",
     "output_type": "stream",
     "text": [
      "One-Class SVM F1 Score : 0.1879120879120879\n"
     ]
    }
   ],
   "source": [
    "ocsvm_model = OneClassSVM(nu=0.2, gamma=0.001, kernel='rbf')\n",
    "ocsvm_ret = ocsvm_model.fit_predict(df['value'].values.reshape(-1, 1))\n",
    "ocsvm_df = pd.DataFrame()\n",
    "ocsvm_df['value'] = df['value']\n",
    "ocsvm_df['anomaly']  = [1 if i==-1 else 0 for i in ocsvm_ret]\n",
    "ocsvm_f1 = f1_score(df['anomaly'], ocsvm_df['anomaly'])\n",
    "print(f'One-Class SVM F1 Score : {ocsvm_f1}')"
   ]
  },
  {
   "cell_type": "code",
   "execution_count": 50,
   "metadata": {},
   "outputs": [
    {
     "data": {
      "text/html": [
       "<div>\n",
       "<style scoped>\n",
       "    .dataframe tbody tr th:only-of-type {\n",
       "        vertical-align: middle;\n",
       "    }\n",
       "\n",
       "    .dataframe tbody tr th {\n",
       "        vertical-align: top;\n",
       "    }\n",
       "\n",
       "    .dataframe thead th {\n",
       "        text-align: right;\n",
       "    }\n",
       "</style>\n",
       "<table border=\"1\" class=\"dataframe\">\n",
       "  <thead>\n",
       "    <tr style=\"text-align: right;\">\n",
       "      <th></th>\n",
       "      <th>value</th>\n",
       "      <th>anomaly</th>\n",
       "    </tr>\n",
       "    <tr>\n",
       "      <th>timestamp</th>\n",
       "      <th></th>\n",
       "      <th></th>\n",
       "    </tr>\n",
       "  </thead>\n",
       "  <tbody>\n",
       "    <tr>\n",
       "      <th>2014-07-06 20:35:00</th>\n",
       "      <td>NaN</td>\n",
       "      <td>1</td>\n",
       "    </tr>\n",
       "    <tr>\n",
       "      <th>2014-07-06 20:40:00</th>\n",
       "      <td>NaN</td>\n",
       "      <td>1</td>\n",
       "    </tr>\n",
       "    <tr>\n",
       "      <th>2014-07-06 20:45:00</th>\n",
       "      <td>NaN</td>\n",
       "      <td>1</td>\n",
       "    </tr>\n",
       "    <tr>\n",
       "      <th>2014-07-06 20:50:00</th>\n",
       "      <td>NaN</td>\n",
       "      <td>1</td>\n",
       "    </tr>\n",
       "    <tr>\n",
       "      <th>2014-07-06 21:00:00</th>\n",
       "      <td>NaN</td>\n",
       "      <td>1</td>\n",
       "    </tr>\n",
       "    <tr>\n",
       "      <th>...</th>\n",
       "      <td>...</td>\n",
       "      <td>...</td>\n",
       "    </tr>\n",
       "    <tr>\n",
       "      <th>2014-07-25 08:25:00</th>\n",
       "      <td>NaN</td>\n",
       "      <td>1</td>\n",
       "    </tr>\n",
       "    <tr>\n",
       "      <th>2014-07-25 08:35:00</th>\n",
       "      <td>NaN</td>\n",
       "      <td>1</td>\n",
       "    </tr>\n",
       "    <tr>\n",
       "      <th>2014-07-25 08:40:00</th>\n",
       "      <td>NaN</td>\n",
       "      <td>1</td>\n",
       "    </tr>\n",
       "    <tr>\n",
       "      <th>2014-07-25 08:45:00</th>\n",
       "      <td>NaN</td>\n",
       "      <td>1</td>\n",
       "    </tr>\n",
       "    <tr>\n",
       "      <th>2014-07-25 08:55:00</th>\n",
       "      <td>NaN</td>\n",
       "      <td>1</td>\n",
       "    </tr>\n",
       "  </tbody>\n",
       "</table>\n",
       "<p>4930 rows × 2 columns</p>\n",
       "</div>"
      ],
      "text/plain": [
       "                     value  anomaly\n",
       "timestamp                          \n",
       "2014-07-06 20:35:00    NaN        1\n",
       "2014-07-06 20:40:00    NaN        1\n",
       "2014-07-06 20:45:00    NaN        1\n",
       "2014-07-06 20:50:00    NaN        1\n",
       "2014-07-06 21:00:00    NaN        1\n",
       "...                    ...      ...\n",
       "2014-07-25 08:25:00    NaN        1\n",
       "2014-07-25 08:35:00    NaN        1\n",
       "2014-07-25 08:40:00    NaN        1\n",
       "2014-07-25 08:45:00    NaN        1\n",
       "2014-07-25 08:55:00    NaN        1\n",
       "\n",
       "[4930 rows x 2 columns]"
      ]
     },
     "execution_count": 50,
     "metadata": {},
     "output_type": "execute_result"
    }
   ],
   "source": [
    "import numpy as np\n",
    "miss_data = ocsvm_df.copy()\n",
    "timestamp = miss_data.index\n",
    "miss_data.loc[miss_data[\"anomaly\"] == 1, \"value\"] = np.nan\n",
    "miss_data.loc[miss_data[\"anomaly\"] == 1]"
   ]
  },
  {
   "cell_type": "code",
   "execution_count": 51,
   "metadata": {},
   "outputs": [
    {
     "data": {
      "text/plain": [
       "timestamp\n",
       "2014-07-06 20:10:00    1.047256\n",
       "2014-07-06 20:15:00    1.848031\n",
       "2014-07-06 20:20:00    1.297892\n",
       "2014-07-06 20:25:00    1.593151\n",
       "2014-07-06 20:35:00    1.454461\n",
       "                         ...   \n",
       "2014-07-25 08:35:00    1.093674\n",
       "2014-07-25 08:40:00    1.194987\n",
       "2014-07-25 08:45:00    1.296301\n",
       "2014-07-25 08:50:00    1.397614\n",
       "2014-07-25 08:55:00    1.397614\n",
       "Name: value, Length: 5315, dtype: float64"
      ]
     },
     "execution_count": 51,
     "metadata": {},
     "output_type": "execute_result"
    }
   ],
   "source": [
    "X_filled = miss_data.copy()\n",
    "X_filled = pd.DataFrame(X_filled).interpolate(\n",
    "            method=\"linear\", limit_direction=\"both\"\n",
    "        )\n",
    "X_filled.index = timestamp\n",
    "# print(df['value'])\n",
    "# print(X_filled['value'])\n",
    "\n",
    "y = pd.DataFrame({'y_true':df['value'],\n",
    "'y_pred':X_filled['value']})\n",
    "# y = metric_calc(y)\n",
    "# y\n",
    "X_filled['value']"
   ]
  },
  {
   "cell_type": "code",
   "execution_count": 52,
   "metadata": {},
   "outputs": [
    {
     "name": "stdout",
     "output_type": "stream",
     "text": [
      "One-Class SVM F1 Score : 0.08286252354048965\n"
     ]
    }
   ],
   "source": [
    "ocsvm_model = OneClassSVM(nu=0.2, gamma=0.001, kernel='rbf')\n",
    "ocsvm_ret = ocsvm_model.fit_predict(X_filled['value'].values.reshape(-1, 1))\n",
    "ocsvm_df = pd.DataFrame()\n",
    "ocsvm_df['value'] = X_filled['value']\n",
    "ocsvm_df['anomaly']  = [1 if i==-1 else 0 for i in ocsvm_ret]\n",
    "ocsvm_f1 = f1_score(df['anomaly'], ocsvm_df['anomaly'])\n",
    "print(f'One-Class SVM F1 Score : {ocsvm_f1}')"
   ]
  }
 ],
 "metadata": {
  "kernelspec": {
   "display_name": "autoimpute",
   "language": "python",
   "name": "python3"
  },
  "language_info": {
   "codemirror_mode": {
    "name": "ipython",
    "version": 3
   },
   "file_extension": ".py",
   "mimetype": "text/x-python",
   "name": "python",
   "nbconvert_exporter": "python",
   "pygments_lexer": "ipython3",
   "version": "3.7.13"
  },
  "orig_nbformat": 4
 },
 "nbformat": 4,
 "nbformat_minor": 2
}
