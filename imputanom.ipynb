{
 "cells": [
  {
   "cell_type": "code",
   "execution_count": 1,
   "metadata": {},
   "outputs": [],
   "source": [
    "import pandas as pd\n",
    "import scipy.stats as stats\n",
    "from sklearn.svm import OneClassSVM\n",
    "from sklearn.metrics import f1_score\n",
    "from missingpy import MissForest\n",
    "import sys\n",
    "import sklearn.neighbors._base\n",
    "\n",
    "sys.modules[\"sklearn.neighbors.base\"] = sklearn.neighbors._base\n",
    "from sklearn.impute import SimpleImputer, KNNImputer"
   ]
  },
  {
   "cell_type": "code",
   "execution_count": 2,
   "metadata": {},
   "outputs": [
    {
     "data": {
      "text/html": [
       "<div>\n",
       "<style scoped>\n",
       "    .dataframe tbody tr th:only-of-type {\n",
       "        vertical-align: middle;\n",
       "    }\n",
       "\n",
       "    .dataframe tbody tr th {\n",
       "        vertical-align: top;\n",
       "    }\n",
       "\n",
       "    .dataframe thead th {\n",
       "        text-align: right;\n",
       "    }\n",
       "</style>\n",
       "<table border=\"1\" class=\"dataframe\">\n",
       "  <thead>\n",
       "    <tr style=\"text-align: right;\">\n",
       "      <th></th>\n",
       "      <th>timestamp</th>\n",
       "      <th>value</th>\n",
       "    </tr>\n",
       "  </thead>\n",
       "  <tbody>\n",
       "    <tr>\n",
       "      <th>0</th>\n",
       "      <td>2014-07-01 00:00:00</td>\n",
       "      <td>10844</td>\n",
       "    </tr>\n",
       "    <tr>\n",
       "      <th>1</th>\n",
       "      <td>2014-07-01 00:30:00</td>\n",
       "      <td>8127</td>\n",
       "    </tr>\n",
       "    <tr>\n",
       "      <th>2</th>\n",
       "      <td>2014-07-01 01:00:00</td>\n",
       "      <td>6210</td>\n",
       "    </tr>\n",
       "  </tbody>\n",
       "</table>\n",
       "</div>"
      ],
      "text/plain": [
       "             timestamp  value\n",
       "0  2014-07-01 00:00:00  10844\n",
       "1  2014-07-01 00:30:00   8127\n",
       "2  2014-07-01 01:00:00   6210"
      ]
     },
     "execution_count": 2,
     "metadata": {},
     "output_type": "execute_result"
    }
   ],
   "source": [
    "df = pd.read_csv(\"data/realKnownCause/nyc_taxi.csv\",low_memory=False)\n",
    "df.head(3)"
   ]
  },
  {
   "cell_type": "code",
   "execution_count": 3,
   "metadata": {},
   "outputs": [],
   "source": [
    "anomaly_points = [\n",
    "        [\n",
    "            \"2014-10-30 15:30:00.000000\",\n",
    "            \"2014-11-03 22:30:00.000000\"\n",
    "        ],\n",
    "        [\n",
    "            \"2014-11-25 12:00:00.000000\",\n",
    "            \"2014-11-29 19:00:00.000000\"\n",
    "        ],\n",
    "        [\n",
    "            \"2014-12-23 11:30:00.000000\",\n",
    "            \"2014-12-27 18:30:00.000000\"\n",
    "        ],\n",
    "        [\n",
    "            \"2014-12-29 21:30:00.000000\",\n",
    "            \"2015-01-03 04:30:00.000000\"\n",
    "        ],\n",
    "        [\n",
    "            \"2015-01-24 20:30:00.000000\",\n",
    "            \"2015-01-29 03:30:00.000000\"\n",
    "        ]\n",
    "]"
   ]
  },
  {
   "cell_type": "code",
   "execution_count": 4,
   "metadata": {},
   "outputs": [],
   "source": [
    "df['timestamp'] = pd.to_datetime(df['timestamp'])\n",
    "#is anomaly? : True => 1, False => 0\n",
    "df['anomaly'] = 0\n",
    "for start, end in anomaly_points:\n",
    "    df.loc[((df['timestamp'] >= start) & (df['timestamp'] <= end)), 'anomaly'] = 1"
   ]
  },
  {
   "cell_type": "code",
   "execution_count": 5,
   "metadata": {},
   "outputs": [
    {
     "data": {
      "text/html": [
       "<div>\n",
       "<style scoped>\n",
       "    .dataframe tbody tr th:only-of-type {\n",
       "        vertical-align: middle;\n",
       "    }\n",
       "\n",
       "    .dataframe tbody tr th {\n",
       "        vertical-align: top;\n",
       "    }\n",
       "\n",
       "    .dataframe thead th {\n",
       "        text-align: right;\n",
       "    }\n",
       "</style>\n",
       "<table border=\"1\" class=\"dataframe\">\n",
       "  <thead>\n",
       "    <tr style=\"text-align: right;\">\n",
       "      <th></th>\n",
       "      <th>value</th>\n",
       "      <th>anomaly</th>\n",
       "    </tr>\n",
       "    <tr>\n",
       "      <th>timestamp</th>\n",
       "      <th></th>\n",
       "      <th></th>\n",
       "    </tr>\n",
       "  </thead>\n",
       "  <tbody>\n",
       "    <tr>\n",
       "      <th>2014-10-30 15:30:00</th>\n",
       "      <td>16749</td>\n",
       "      <td>1</td>\n",
       "    </tr>\n",
       "    <tr>\n",
       "      <th>2014-10-30 16:00:00</th>\n",
       "      <td>14604</td>\n",
       "      <td>1</td>\n",
       "    </tr>\n",
       "    <tr>\n",
       "      <th>2014-10-30 16:30:00</th>\n",
       "      <td>13367</td>\n",
       "      <td>1</td>\n",
       "    </tr>\n",
       "    <tr>\n",
       "      <th>2014-10-30 17:00:00</th>\n",
       "      <td>16382</td>\n",
       "      <td>1</td>\n",
       "    </tr>\n",
       "    <tr>\n",
       "      <th>2014-10-30 17:30:00</th>\n",
       "      <td>19879</td>\n",
       "      <td>1</td>\n",
       "    </tr>\n",
       "    <tr>\n",
       "      <th>...</th>\n",
       "      <td>...</td>\n",
       "      <td>...</td>\n",
       "    </tr>\n",
       "    <tr>\n",
       "      <th>2015-01-29 01:30:00</th>\n",
       "      <td>4342</td>\n",
       "      <td>1</td>\n",
       "    </tr>\n",
       "    <tr>\n",
       "      <th>2015-01-29 02:00:00</th>\n",
       "      <td>3604</td>\n",
       "      <td>1</td>\n",
       "    </tr>\n",
       "    <tr>\n",
       "      <th>2015-01-29 02:30:00</th>\n",
       "      <td>2822</td>\n",
       "      <td>1</td>\n",
       "    </tr>\n",
       "    <tr>\n",
       "      <th>2015-01-29 03:00:00</th>\n",
       "      <td>2379</td>\n",
       "      <td>1</td>\n",
       "    </tr>\n",
       "    <tr>\n",
       "      <th>2015-01-29 03:30:00</th>\n",
       "      <td>2121</td>\n",
       "      <td>1</td>\n",
       "    </tr>\n",
       "  </tbody>\n",
       "</table>\n",
       "<p>1035 rows × 2 columns</p>\n",
       "</div>"
      ],
      "text/plain": [
       "                     value  anomaly\n",
       "timestamp                          \n",
       "2014-10-30 15:30:00  16749        1\n",
       "2014-10-30 16:00:00  14604        1\n",
       "2014-10-30 16:30:00  13367        1\n",
       "2014-10-30 17:00:00  16382        1\n",
       "2014-10-30 17:30:00  19879        1\n",
       "...                    ...      ...\n",
       "2015-01-29 01:30:00   4342        1\n",
       "2015-01-29 02:00:00   3604        1\n",
       "2015-01-29 02:30:00   2822        1\n",
       "2015-01-29 03:00:00   2379        1\n",
       "2015-01-29 03:30:00   2121        1\n",
       "\n",
       "[1035 rows x 2 columns]"
      ]
     },
     "execution_count": 5,
     "metadata": {},
     "output_type": "execute_result"
    }
   ],
   "source": [
    "df.index = df['timestamp']\n",
    "df.drop(['timestamp'], axis=1, inplace=True)\n",
    "df.loc[df['anomaly'] == 1]"
   ]
  },
  {
   "cell_type": "code",
   "execution_count": 6,
   "metadata": {},
   "outputs": [
    {
     "name": "stdout",
     "output_type": "stream",
     "text": [
      "One-Class SVM F1 Score : 0.17431018078020935\n"
     ]
    }
   ],
   "source": [
    "ocsvm_model = OneClassSVM(nu=0.2, gamma=0.001, kernel='rbf')\n",
    "ocsvm_ret = ocsvm_model.fit_predict(df['value'].values.reshape(-1, 1))\n",
    "ocsvm_df = pd.DataFrame()\n",
    "ocsvm_df['value'] = df['value']\n",
    "ocsvm_df['anomaly']  = [1 if i==-1 else 0 for i in ocsvm_ret]\n",
    "ocsvm_f1 = f1_score(df['anomaly'], ocsvm_df['anomaly'])\n",
    "print(f'One-Class SVM F1 Score : {ocsvm_f1}')"
   ]
  },
  {
   "cell_type": "code",
   "execution_count": 7,
   "metadata": {},
   "outputs": [
    {
     "data": {
      "text/html": [
       "<div>\n",
       "<style scoped>\n",
       "    .dataframe tbody tr th:only-of-type {\n",
       "        vertical-align: middle;\n",
       "    }\n",
       "\n",
       "    .dataframe tbody tr th {\n",
       "        vertical-align: top;\n",
       "    }\n",
       "\n",
       "    .dataframe thead th {\n",
       "        text-align: right;\n",
       "    }\n",
       "</style>\n",
       "<table border=\"1\" class=\"dataframe\">\n",
       "  <thead>\n",
       "    <tr style=\"text-align: right;\">\n",
       "      <th></th>\n",
       "      <th>value</th>\n",
       "      <th>anomaly</th>\n",
       "    </tr>\n",
       "    <tr>\n",
       "      <th>timestamp</th>\n",
       "      <th></th>\n",
       "      <th></th>\n",
       "    </tr>\n",
       "  </thead>\n",
       "  <tbody>\n",
       "    <tr>\n",
       "      <th>2014-07-01 00:00:00</th>\n",
       "      <td>NaN</td>\n",
       "      <td>1</td>\n",
       "    </tr>\n",
       "    <tr>\n",
       "      <th>2014-07-01 05:30:00</th>\n",
       "      <td>NaN</td>\n",
       "      <td>1</td>\n",
       "    </tr>\n",
       "    <tr>\n",
       "      <th>2014-07-01 06:00:00</th>\n",
       "      <td>NaN</td>\n",
       "      <td>1</td>\n",
       "    </tr>\n",
       "    <tr>\n",
       "      <th>2014-07-01 09:30:00</th>\n",
       "      <td>NaN</td>\n",
       "      <td>1</td>\n",
       "    </tr>\n",
       "    <tr>\n",
       "      <th>2014-07-01 11:00:00</th>\n",
       "      <td>NaN</td>\n",
       "      <td>1</td>\n",
       "    </tr>\n",
       "    <tr>\n",
       "      <th>...</th>\n",
       "      <td>...</td>\n",
       "      <td>...</td>\n",
       "    </tr>\n",
       "    <tr>\n",
       "      <th>2015-01-31 19:30:00</th>\n",
       "      <td>NaN</td>\n",
       "      <td>1</td>\n",
       "    </tr>\n",
       "    <tr>\n",
       "      <th>2015-01-31 21:00:00</th>\n",
       "      <td>NaN</td>\n",
       "      <td>1</td>\n",
       "    </tr>\n",
       "    <tr>\n",
       "      <th>2015-01-31 22:00:00</th>\n",
       "      <td>NaN</td>\n",
       "      <td>1</td>\n",
       "    </tr>\n",
       "    <tr>\n",
       "      <th>2015-01-31 22:30:00</th>\n",
       "      <td>NaN</td>\n",
       "      <td>1</td>\n",
       "    </tr>\n",
       "    <tr>\n",
       "      <th>2015-01-31 23:00:00</th>\n",
       "      <td>NaN</td>\n",
       "      <td>1</td>\n",
       "    </tr>\n",
       "  </tbody>\n",
       "</table>\n",
       "<p>4220 rows × 2 columns</p>\n",
       "</div>"
      ],
      "text/plain": [
       "                     value  anomaly\n",
       "timestamp                          \n",
       "2014-07-01 00:00:00    NaN        1\n",
       "2014-07-01 05:30:00    NaN        1\n",
       "2014-07-01 06:00:00    NaN        1\n",
       "2014-07-01 09:30:00    NaN        1\n",
       "2014-07-01 11:00:00    NaN        1\n",
       "...                    ...      ...\n",
       "2015-01-31 19:30:00    NaN        1\n",
       "2015-01-31 21:00:00    NaN        1\n",
       "2015-01-31 22:00:00    NaN        1\n",
       "2015-01-31 22:30:00    NaN        1\n",
       "2015-01-31 23:00:00    NaN        1\n",
       "\n",
       "[4220 rows x 2 columns]"
      ]
     },
     "execution_count": 7,
     "metadata": {},
     "output_type": "execute_result"
    }
   ],
   "source": [
    "import numpy as np\n",
    "miss_data = ocsvm_df.copy()\n",
    "timestamp = miss_data.index\n",
    "miss_data.loc[miss_data[\"anomaly\"] == 1, \"value\"] = np.nan\n",
    "miss_data.loc[miss_data[\"anomaly\"] == 1]"
   ]
  },
  {
   "cell_type": "code",
   "execution_count": 8,
   "metadata": {},
   "outputs": [
    {
     "data": {
      "text/plain": [
       "timestamp\n",
       "2014-07-01 00:00:00     8127.0\n",
       "2014-07-01 00:30:00     8127.0\n",
       "2014-07-01 01:00:00     6210.0\n",
       "2014-07-01 01:30:00     4656.0\n",
       "2014-07-01 02:00:00     3820.0\n",
       "                        ...   \n",
       "2015-01-31 21:30:00    24670.0\n",
       "2015-01-31 22:00:00    25074.5\n",
       "2015-01-31 22:30:00    25479.0\n",
       "2015-01-31 23:00:00    25883.5\n",
       "2015-01-31 23:30:00    26288.0\n",
       "Name: value, Length: 10320, dtype: float64"
      ]
     },
     "execution_count": 8,
     "metadata": {},
     "output_type": "execute_result"
    }
   ],
   "source": [
    "X_filled = miss_data.copy()\n",
    "X_filled = pd.DataFrame(X_filled).interpolate(\n",
    "            method=\"linear\", limit_direction=\"both\"\n",
    "        )\n",
    "X_filled.index = timestamp\n",
    "# print(df['value'])\n",
    "# print(X_filled['value'])\n",
    "\n",
    "y = pd.DataFrame({'y_true':df['value'],\n",
    "'y_pred':X_filled['value']})\n",
    "# y = metric_calc(y)\n",
    "# y\n",
    "X_filled['value']"
   ]
  },
  {
   "cell_type": "code",
   "execution_count": 9,
   "metadata": {},
   "outputs": [
    {
     "name": "stdout",
     "output_type": "stream",
     "text": [
      "One-Class SVM F1 Score : 0.16138793625176517\n"
     ]
    }
   ],
   "source": [
    "ocsvm_model = OneClassSVM(nu=0.2, gamma=0.001, kernel='rbf')\n",
    "ocsvm_ret = ocsvm_model.fit_predict(X_filled['value'].values.reshape(-1, 1))\n",
    "ocsvm_df = pd.DataFrame()\n",
    "ocsvm_df['value'] = X_filled['value']\n",
    "ocsvm_df['anomaly']  = [1 if i==-1 else 0 for i in ocsvm_ret]\n",
    "ocsvm_f1 = f1_score(df['anomaly'], ocsvm_df['anomaly'])\n",
    "print(f'One-Class SVM F1 Score : {ocsvm_f1}')"
   ]
  }
 ],
 "metadata": {
  "kernelspec": {
   "display_name": "autoimpute",
   "language": "python",
   "name": "python3"
  },
  "language_info": {
   "codemirror_mode": {
    "name": "ipython",
    "version": 3
   },
   "file_extension": ".py",
   "mimetype": "text/x-python",
   "name": "python",
   "nbconvert_exporter": "python",
   "pygments_lexer": "ipython3",
   "version": "3.9.16"
  },
  "orig_nbformat": 4
 },
 "nbformat": 4,
 "nbformat_minor": 2
}
