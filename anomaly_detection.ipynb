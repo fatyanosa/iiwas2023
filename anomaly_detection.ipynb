{
 "cells": [
  {
   "cell_type": "code",
   "execution_count": 16,
   "metadata": {},
   "outputs": [],
   "source": [
    "\n",
    "import pandas as pd\n",
    "import scipy.stats as stats\n",
    "from sklearn.svm import OneClassSVM\n",
    "from sklearn.metrics import f1_score\n",
    "from missingpy import MissForest\n",
    "import sys\n",
    "import sklearn.neighbors._base\n",
    "\n",
    "sys.modules[\"sklearn.neighbors.base\"] = sklearn.neighbors._base\n",
    "from sklearn.impute import SimpleImputer, KNNImputer"
   ]
  },
  {
   "cell_type": "code",
   "execution_count": 17,
   "metadata": {},
   "outputs": [
    {
     "data": {
      "text/html": [
       "<div>\n",
       "<style scoped>\n",
       "    .dataframe tbody tr th:only-of-type {\n",
       "        vertical-align: middle;\n",
       "    }\n",
       "\n",
       "    .dataframe tbody tr th {\n",
       "        vertical-align: top;\n",
       "    }\n",
       "\n",
       "    .dataframe thead th {\n",
       "        text-align: right;\n",
       "    }\n",
       "</style>\n",
       "<table border=\"1\" class=\"dataframe\">\n",
       "  <thead>\n",
       "    <tr style=\"text-align: right;\">\n",
       "      <th></th>\n",
       "      <th>timestamp</th>\n",
       "      <th>value</th>\n",
       "    </tr>\n",
       "  </thead>\n",
       "  <tbody>\n",
       "    <tr>\n",
       "      <th>0</th>\n",
       "      <td>2014-07-01 00:00:00</td>\n",
       "      <td>10844</td>\n",
       "    </tr>\n",
       "    <tr>\n",
       "      <th>1</th>\n",
       "      <td>2014-07-01 00:30:00</td>\n",
       "      <td>8127</td>\n",
       "    </tr>\n",
       "    <tr>\n",
       "      <th>2</th>\n",
       "      <td>2014-07-01 01:00:00</td>\n",
       "      <td>6210</td>\n",
       "    </tr>\n",
       "  </tbody>\n",
       "</table>\n",
       "</div>"
      ],
      "text/plain": [
       "             timestamp  value\n",
       "0  2014-07-01 00:00:00  10844\n",
       "1  2014-07-01 00:30:00   8127\n",
       "2  2014-07-01 01:00:00   6210"
      ]
     },
     "execution_count": 17,
     "metadata": {},
     "output_type": "execute_result"
    }
   ],
   "source": [
    "df = pd.read_csv(\"data/nyc_taxi.csv\",low_memory=False)\n",
    "df.head(3)"
   ]
  },
  {
   "attachments": {},
   "cell_type": "markdown",
   "metadata": {},
   "source": [
    "# Preprocessing"
   ]
  },
  {
   "cell_type": "code",
   "execution_count": 18,
   "metadata": {},
   "outputs": [],
   "source": [
    "anomaly_points = [\n",
    "        [\n",
    "            \"2014-10-30 15:30:00.000000\",\n",
    "            \"2014-11-03 22:30:00.000000\"\n",
    "        ],\n",
    "        [\n",
    "            \"2014-11-25 12:00:00.000000\",\n",
    "            \"2014-11-29 19:00:00.000000\"\n",
    "        ],\n",
    "        [\n",
    "            \"2014-12-23 11:30:00.000000\",\n",
    "            \"2014-12-27 18:30:00.000000\"\n",
    "        ],\n",
    "        [\n",
    "            \"2014-12-29 21:30:00.000000\",\n",
    "            \"2015-01-03 04:30:00.000000\"\n",
    "        ],\n",
    "        [\n",
    "            \"2015-01-24 20:30:00.000000\",\n",
    "            \"2015-01-29 03:30:00.000000\"\n",
    "        ]\n",
    "]"
   ]
  },
  {
   "cell_type": "code",
   "execution_count": 19,
   "metadata": {},
   "outputs": [],
   "source": [
    "df['timestamp'] = pd.to_datetime(df['timestamp'])\n",
    "#is anomaly? : True => 1, False => 0\n",
    "df['anomaly'] = 0\n",
    "for start, end in anomaly_points:\n",
    "    df.loc[((df['timestamp'] >= start) & (df['timestamp'] <= end)), 'anomaly'] = 1"
   ]
  },
  {
   "cell_type": "code",
   "execution_count": 20,
   "metadata": {},
   "outputs": [],
   "source": [
    "df['year'] = df['timestamp'].apply(lambda x : x.year)\n",
    "df['month'] = df['timestamp'].apply(lambda x : x.month)\n",
    "df['day'] = df['timestamp'].apply(lambda x : x.day)\n",
    "df['hour'] = df['timestamp'].apply(lambda x : x.hour)\n",
    "df['minute'] = df['timestamp'].apply(lambda x : x.minute)"
   ]
  },
  {
   "cell_type": "code",
   "execution_count": 21,
   "metadata": {},
   "outputs": [
    {
     "data": {
      "text/html": [
       "<div>\n",
       "<style scoped>\n",
       "    .dataframe tbody tr th:only-of-type {\n",
       "        vertical-align: middle;\n",
       "    }\n",
       "\n",
       "    .dataframe tbody tr th {\n",
       "        vertical-align: top;\n",
       "    }\n",
       "\n",
       "    .dataframe thead th {\n",
       "        text-align: right;\n",
       "    }\n",
       "</style>\n",
       "<table border=\"1\" class=\"dataframe\">\n",
       "  <thead>\n",
       "    <tr style=\"text-align: right;\">\n",
       "      <th></th>\n",
       "      <th>value</th>\n",
       "      <th>anomaly</th>\n",
       "      <th>year</th>\n",
       "      <th>month</th>\n",
       "      <th>day</th>\n",
       "      <th>hour</th>\n",
       "      <th>minute</th>\n",
       "    </tr>\n",
       "    <tr>\n",
       "      <th>timestamp</th>\n",
       "      <th></th>\n",
       "      <th></th>\n",
       "      <th></th>\n",
       "      <th></th>\n",
       "      <th></th>\n",
       "      <th></th>\n",
       "      <th></th>\n",
       "    </tr>\n",
       "  </thead>\n",
       "  <tbody>\n",
       "    <tr>\n",
       "      <th>2014-10-30 15:30:00</th>\n",
       "      <td>16749</td>\n",
       "      <td>1</td>\n",
       "      <td>2014</td>\n",
       "      <td>10</td>\n",
       "      <td>30</td>\n",
       "      <td>15</td>\n",
       "      <td>30</td>\n",
       "    </tr>\n",
       "    <tr>\n",
       "      <th>2014-10-30 16:00:00</th>\n",
       "      <td>14604</td>\n",
       "      <td>1</td>\n",
       "      <td>2014</td>\n",
       "      <td>10</td>\n",
       "      <td>30</td>\n",
       "      <td>16</td>\n",
       "      <td>0</td>\n",
       "    </tr>\n",
       "    <tr>\n",
       "      <th>2014-10-30 16:30:00</th>\n",
       "      <td>13367</td>\n",
       "      <td>1</td>\n",
       "      <td>2014</td>\n",
       "      <td>10</td>\n",
       "      <td>30</td>\n",
       "      <td>16</td>\n",
       "      <td>30</td>\n",
       "    </tr>\n",
       "    <tr>\n",
       "      <th>2014-10-30 17:00:00</th>\n",
       "      <td>16382</td>\n",
       "      <td>1</td>\n",
       "      <td>2014</td>\n",
       "      <td>10</td>\n",
       "      <td>30</td>\n",
       "      <td>17</td>\n",
       "      <td>0</td>\n",
       "    </tr>\n",
       "    <tr>\n",
       "      <th>2014-10-30 17:30:00</th>\n",
       "      <td>19879</td>\n",
       "      <td>1</td>\n",
       "      <td>2014</td>\n",
       "      <td>10</td>\n",
       "      <td>30</td>\n",
       "      <td>17</td>\n",
       "      <td>30</td>\n",
       "    </tr>\n",
       "    <tr>\n",
       "      <th>...</th>\n",
       "      <td>...</td>\n",
       "      <td>...</td>\n",
       "      <td>...</td>\n",
       "      <td>...</td>\n",
       "      <td>...</td>\n",
       "      <td>...</td>\n",
       "      <td>...</td>\n",
       "    </tr>\n",
       "    <tr>\n",
       "      <th>2015-01-29 01:30:00</th>\n",
       "      <td>4342</td>\n",
       "      <td>1</td>\n",
       "      <td>2015</td>\n",
       "      <td>1</td>\n",
       "      <td>29</td>\n",
       "      <td>1</td>\n",
       "      <td>30</td>\n",
       "    </tr>\n",
       "    <tr>\n",
       "      <th>2015-01-29 02:00:00</th>\n",
       "      <td>3604</td>\n",
       "      <td>1</td>\n",
       "      <td>2015</td>\n",
       "      <td>1</td>\n",
       "      <td>29</td>\n",
       "      <td>2</td>\n",
       "      <td>0</td>\n",
       "    </tr>\n",
       "    <tr>\n",
       "      <th>2015-01-29 02:30:00</th>\n",
       "      <td>2822</td>\n",
       "      <td>1</td>\n",
       "      <td>2015</td>\n",
       "      <td>1</td>\n",
       "      <td>29</td>\n",
       "      <td>2</td>\n",
       "      <td>30</td>\n",
       "    </tr>\n",
       "    <tr>\n",
       "      <th>2015-01-29 03:00:00</th>\n",
       "      <td>2379</td>\n",
       "      <td>1</td>\n",
       "      <td>2015</td>\n",
       "      <td>1</td>\n",
       "      <td>29</td>\n",
       "      <td>3</td>\n",
       "      <td>0</td>\n",
       "    </tr>\n",
       "    <tr>\n",
       "      <th>2015-01-29 03:30:00</th>\n",
       "      <td>2121</td>\n",
       "      <td>1</td>\n",
       "      <td>2015</td>\n",
       "      <td>1</td>\n",
       "      <td>29</td>\n",
       "      <td>3</td>\n",
       "      <td>30</td>\n",
       "    </tr>\n",
       "  </tbody>\n",
       "</table>\n",
       "<p>1035 rows × 7 columns</p>\n",
       "</div>"
      ],
      "text/plain": [
       "                     value  anomaly  year  month  day  hour  minute\n",
       "timestamp                                                          \n",
       "2014-10-30 15:30:00  16749        1  2014     10   30    15      30\n",
       "2014-10-30 16:00:00  14604        1  2014     10   30    16       0\n",
       "2014-10-30 16:30:00  13367        1  2014     10   30    16      30\n",
       "2014-10-30 17:00:00  16382        1  2014     10   30    17       0\n",
       "2014-10-30 17:30:00  19879        1  2014     10   30    17      30\n",
       "...                    ...      ...   ...    ...  ...   ...     ...\n",
       "2015-01-29 01:30:00   4342        1  2015      1   29     1      30\n",
       "2015-01-29 02:00:00   3604        1  2015      1   29     2       0\n",
       "2015-01-29 02:30:00   2822        1  2015      1   29     2      30\n",
       "2015-01-29 03:00:00   2379        1  2015      1   29     3       0\n",
       "2015-01-29 03:30:00   2121        1  2015      1   29     3      30\n",
       "\n",
       "[1035 rows x 7 columns]"
      ]
     },
     "execution_count": 21,
     "metadata": {},
     "output_type": "execute_result"
    }
   ],
   "source": [
    "df.index = df['timestamp']\n",
    "df.drop(['timestamp'], axis=1, inplace=True)\n",
    "df.loc[df['anomaly'] == 1]"
   ]
  },
  {
   "cell_type": "code",
   "execution_count": 22,
   "metadata": {},
   "outputs": [
    {
     "name": "stdout",
     "output_type": "stream",
     "text": [
      "Hotelling's T2 F1 Score : 0.15788065293015788\n"
     ]
    }
   ],
   "source": [
    "hotelling_df = pd.DataFrame()\n",
    "hotelling_df['value'] = df['value']\n",
    "mean = hotelling_df['value'].mean()\n",
    "std = hotelling_df['value'].std()\n",
    "hotelling_df['anomaly_score'] = [((x - mean)/std) ** 2 for x in hotelling_df['value']]\n",
    "hotelling_df['anomaly_threshold'] = stats.chi2.ppf(q=0.8, df=1)\n",
    "hotelling_df['anomaly']  = hotelling_df.apply(lambda x : 1 if x['anomaly_score'] > x['anomaly_threshold'] else 0, axis=1)\n",
    "hotelling_f1 = f1_score(df['anomaly'], hotelling_df['anomaly'])\n",
    "print(f'Hotelling\\'s T2 F1 Score : {hotelling_f1}')"
   ]
  },
  {
   "cell_type": "code",
   "execution_count": 23,
   "metadata": {},
   "outputs": [
    {
     "name": "stdout",
     "output_type": "stream",
     "text": [
      "One-Class SVM F1 Score : 0.17431018078020935\n"
     ]
    }
   ],
   "source": [
    "ocsvm_model = OneClassSVM(nu=0.2, gamma=0.001, kernel='rbf')\n",
    "ocsvm_ret = ocsvm_model.fit_predict(df['value'].values.reshape(-1, 1))\n",
    "ocsvm_df = pd.DataFrame()\n",
    "ocsvm_df['value'] = df['value']\n",
    "ocsvm_df['anomaly']  = [1 if i==-1 else 0 for i in ocsvm_ret]\n",
    "ocsvm_f1 = f1_score(df['anomaly'], ocsvm_df['anomaly'])\n",
    "print(f'One-Class SVM F1 Score : {ocsvm_f1}')"
   ]
  },
  {
   "cell_type": "code",
   "execution_count": 24,
   "metadata": {},
   "outputs": [
    {
     "data": {
      "text/html": [
       "<div>\n",
       "<style scoped>\n",
       "    .dataframe tbody tr th:only-of-type {\n",
       "        vertical-align: middle;\n",
       "    }\n",
       "\n",
       "    .dataframe tbody tr th {\n",
       "        vertical-align: top;\n",
       "    }\n",
       "\n",
       "    .dataframe thead th {\n",
       "        text-align: right;\n",
       "    }\n",
       "</style>\n",
       "<table border=\"1\" class=\"dataframe\">\n",
       "  <thead>\n",
       "    <tr style=\"text-align: right;\">\n",
       "      <th></th>\n",
       "      <th>value</th>\n",
       "      <th>anomaly</th>\n",
       "      <th>year</th>\n",
       "      <th>month</th>\n",
       "      <th>day</th>\n",
       "      <th>hour</th>\n",
       "      <th>minute</th>\n",
       "    </tr>\n",
       "    <tr>\n",
       "      <th>timestamp</th>\n",
       "      <th></th>\n",
       "      <th></th>\n",
       "      <th></th>\n",
       "      <th></th>\n",
       "      <th></th>\n",
       "      <th></th>\n",
       "      <th></th>\n",
       "    </tr>\n",
       "  </thead>\n",
       "  <tbody>\n",
       "    <tr>\n",
       "      <th>2014-10-30 15:30:00</th>\n",
       "      <td>NaN</td>\n",
       "      <td>1</td>\n",
       "      <td>2014</td>\n",
       "      <td>10</td>\n",
       "      <td>30</td>\n",
       "      <td>15</td>\n",
       "      <td>30</td>\n",
       "    </tr>\n",
       "    <tr>\n",
       "      <th>2014-10-30 16:00:00</th>\n",
       "      <td>NaN</td>\n",
       "      <td>1</td>\n",
       "      <td>2014</td>\n",
       "      <td>10</td>\n",
       "      <td>30</td>\n",
       "      <td>16</td>\n",
       "      <td>0</td>\n",
       "    </tr>\n",
       "    <tr>\n",
       "      <th>2014-10-30 16:30:00</th>\n",
       "      <td>NaN</td>\n",
       "      <td>1</td>\n",
       "      <td>2014</td>\n",
       "      <td>10</td>\n",
       "      <td>30</td>\n",
       "      <td>16</td>\n",
       "      <td>30</td>\n",
       "    </tr>\n",
       "    <tr>\n",
       "      <th>2014-10-30 17:00:00</th>\n",
       "      <td>NaN</td>\n",
       "      <td>1</td>\n",
       "      <td>2014</td>\n",
       "      <td>10</td>\n",
       "      <td>30</td>\n",
       "      <td>17</td>\n",
       "      <td>0</td>\n",
       "    </tr>\n",
       "    <tr>\n",
       "      <th>2014-10-30 17:30:00</th>\n",
       "      <td>NaN</td>\n",
       "      <td>1</td>\n",
       "      <td>2014</td>\n",
       "      <td>10</td>\n",
       "      <td>30</td>\n",
       "      <td>17</td>\n",
       "      <td>30</td>\n",
       "    </tr>\n",
       "    <tr>\n",
       "      <th>...</th>\n",
       "      <td>...</td>\n",
       "      <td>...</td>\n",
       "      <td>...</td>\n",
       "      <td>...</td>\n",
       "      <td>...</td>\n",
       "      <td>...</td>\n",
       "      <td>...</td>\n",
       "    </tr>\n",
       "    <tr>\n",
       "      <th>2015-01-29 01:30:00</th>\n",
       "      <td>NaN</td>\n",
       "      <td>1</td>\n",
       "      <td>2015</td>\n",
       "      <td>1</td>\n",
       "      <td>29</td>\n",
       "      <td>1</td>\n",
       "      <td>30</td>\n",
       "    </tr>\n",
       "    <tr>\n",
       "      <th>2015-01-29 02:00:00</th>\n",
       "      <td>NaN</td>\n",
       "      <td>1</td>\n",
       "      <td>2015</td>\n",
       "      <td>1</td>\n",
       "      <td>29</td>\n",
       "      <td>2</td>\n",
       "      <td>0</td>\n",
       "    </tr>\n",
       "    <tr>\n",
       "      <th>2015-01-29 02:30:00</th>\n",
       "      <td>NaN</td>\n",
       "      <td>1</td>\n",
       "      <td>2015</td>\n",
       "      <td>1</td>\n",
       "      <td>29</td>\n",
       "      <td>2</td>\n",
       "      <td>30</td>\n",
       "    </tr>\n",
       "    <tr>\n",
       "      <th>2015-01-29 03:00:00</th>\n",
       "      <td>NaN</td>\n",
       "      <td>1</td>\n",
       "      <td>2015</td>\n",
       "      <td>1</td>\n",
       "      <td>29</td>\n",
       "      <td>3</td>\n",
       "      <td>0</td>\n",
       "    </tr>\n",
       "    <tr>\n",
       "      <th>2015-01-29 03:30:00</th>\n",
       "      <td>NaN</td>\n",
       "      <td>1</td>\n",
       "      <td>2015</td>\n",
       "      <td>1</td>\n",
       "      <td>29</td>\n",
       "      <td>3</td>\n",
       "      <td>30</td>\n",
       "    </tr>\n",
       "  </tbody>\n",
       "</table>\n",
       "<p>1035 rows × 7 columns</p>\n",
       "</div>"
      ],
      "text/plain": [
       "                     value  anomaly  year  month  day  hour  minute\n",
       "timestamp                                                          \n",
       "2014-10-30 15:30:00    NaN        1  2014     10   30    15      30\n",
       "2014-10-30 16:00:00    NaN        1  2014     10   30    16       0\n",
       "2014-10-30 16:30:00    NaN        1  2014     10   30    16      30\n",
       "2014-10-30 17:00:00    NaN        1  2014     10   30    17       0\n",
       "2014-10-30 17:30:00    NaN        1  2014     10   30    17      30\n",
       "...                    ...      ...   ...    ...  ...   ...     ...\n",
       "2015-01-29 01:30:00    NaN        1  2015      1   29     1      30\n",
       "2015-01-29 02:00:00    NaN        1  2015      1   29     2       0\n",
       "2015-01-29 02:30:00    NaN        1  2015      1   29     2      30\n",
       "2015-01-29 03:00:00    NaN        1  2015      1   29     3       0\n",
       "2015-01-29 03:30:00    NaN        1  2015      1   29     3      30\n",
       "\n",
       "[1035 rows x 7 columns]"
      ]
     },
     "execution_count": 24,
     "metadata": {},
     "output_type": "execute_result"
    }
   ],
   "source": [
    "import numpy as np\n",
    "miss_data = df.copy()\n",
    "timestamp = miss_data.index\n",
    "miss_data.loc[miss_data[\"anomaly\"] == 1, \"value\"] = np.nan\n",
    "miss_data.loc[miss_data[\"anomaly\"] == 1]"
   ]
  },
  {
   "cell_type": "code",
   "execution_count": 36,
   "metadata": {},
   "outputs": [],
   "source": [
    "def RMSE(original, filled):\n",
    "    from sklearn.metrics import mean_squared_error\n",
    "\n",
    "    score = np.sqrt(mean_squared_error(original, filled))\n",
    "    return score\n",
    "\n",
    "\n",
    "def MAE(original, filled):\n",
    "    from sklearn.metrics import mean_absolute_error\n",
    "\n",
    "    score = mean_absolute_error(original, filled)\n",
    "    return score\n",
    "\n",
    "\n",
    "def MAPE(original, filled):\n",
    "    from sklearn.metrics import mean_absolute_percentage_error\n",
    "\n",
    "    score = mean_absolute_percentage_error(original, filled)\n",
    "    return score\n",
    "\n",
    "def metric_calc(X_filled, complete_data):\n",
    "    from sklearn.preprocessing import MinMaxScaler\n",
    "    scaler = MinMaxScaler()\n",
    "    scaled_complete_data = scaler.fit_transform(complete_data)\n",
    "    scaled_X_filled = scaler.fit_transform(X_filled)\n",
    "\n",
    "    rmse = RMSE(scaled_complete_data, scaled_X_filled)\n",
    "    print(\"RMSE=\", rmse)\n",
    "\n",
    "    mae = MAE(scaled_complete_data, scaled_X_filled)\n",
    "    print(\"MAE=\", mae)\n",
    "\n",
    "    mape = MAPE(scaled_complete_data, scaled_X_filled)\n",
    "    print(\"MAPE=\", mape)"
   ]
  },
  {
   "cell_type": "code",
   "execution_count": 37,
   "metadata": {},
   "outputs": [
    {
     "name": "stderr",
     "output_type": "stream",
     "text": [
      "/nas.dbms/fatyanosa/anaconda3/envs/autoimpute/lib/python3.7/site-packages/sklearn/ensemble/_forest.py:400: FutureWarning: Criterion 'mse' was deprecated in v1.0 and will be removed in version 1.2. Use `criterion='squared_error'` which is equivalent.\n",
      "  FutureWarning,\n"
     ]
    },
    {
     "name": "stdout",
     "output_type": "stream",
     "text": [
      "Iteration: 0\n"
     ]
    },
    {
     "name": "stderr",
     "output_type": "stream",
     "text": [
      "/nas.dbms/fatyanosa/anaconda3/envs/autoimpute/lib/python3.7/site-packages/sklearn/ensemble/_forest.py:400: FutureWarning: Criterion 'mse' was deprecated in v1.0 and will be removed in version 1.2. Use `criterion='squared_error'` which is equivalent.\n",
      "  FutureWarning,\n"
     ]
    },
    {
     "name": "stdout",
     "output_type": "stream",
     "text": [
      "Iteration: 1\n"
     ]
    },
    {
     "name": "stderr",
     "output_type": "stream",
     "text": [
      "/nas.dbms/fatyanosa/anaconda3/envs/autoimpute/lib/python3.7/site-packages/sklearn/ensemble/_forest.py:400: FutureWarning: Criterion 'mse' was deprecated in v1.0 and will be removed in version 1.2. Use `criterion='squared_error'` which is equivalent.\n",
      "  FutureWarning,\n"
     ]
    },
    {
     "name": "stdout",
     "output_type": "stream",
     "text": [
      "Iteration: 2\n"
     ]
    },
    {
     "name": "stderr",
     "output_type": "stream",
     "text": [
      "/nas.dbms/fatyanosa/anaconda3/envs/autoimpute/lib/python3.7/site-packages/sklearn/ensemble/_forest.py:400: FutureWarning: Criterion 'mse' was deprecated in v1.0 and will be removed in version 1.2. Use `criterion='squared_error'` which is equivalent.\n",
      "  FutureWarning,\n"
     ]
    },
    {
     "name": "stdout",
     "output_type": "stream",
     "text": [
      "Iteration: 3\n",
      "RMSE= 0.04624124945361327\n",
      "MAE= 0.014487455730270774\n",
      "MAPE= 2263720249.576943\n"
     ]
    }
   ],
   "source": [
    "mf = MissForest()\n",
    "\n",
    "X_filled = mf.fit_transform(miss_data)\n",
    "X_filled = pd.DataFrame(X_filled, columns = ['value', 'anomaly', 'year', 'month', 'day', 'hour', 'minute'])\n",
    "X_filled.index = timestamp\n",
    "# print(X_filled)\n",
    "\n",
    "metric_calc(df, X_filled)"
   ]
  },
  {
   "cell_type": "code",
   "execution_count": 38,
   "metadata": {},
   "outputs": [
    {
     "name": "stdout",
     "output_type": "stream",
     "text": [
      "RMSE= 0.051155298806877775\n",
      "MAE= 0.015499841580911335\n",
      "MAPE= 2263720249.579615\n"
     ]
    }
   ],
   "source": [
    "X_filled = pd.DataFrame(miss_data).interpolate(\n",
    "            method=\"linear\", limit_direction=\"both\"\n",
    "        )\n",
    "X_filled.index = timestamp\n",
    "# print(X_filled)\n",
    "\n",
    "metric_calc(df, X_filled)"
   ]
  },
  {
   "cell_type": "code",
   "execution_count": 39,
   "metadata": {},
   "outputs": [
    {
     "name": "stdout",
     "output_type": "stream",
     "text": [
      "RMSE= 0.04646888031191886\n",
      "MAE= 0.014562755049574308\n",
      "MAPE= 2263720249.5771685\n"
     ]
    }
   ],
   "source": [
    "imp = KNNImputer()\n",
    "X_filled = imp.fit_transform(miss_data)\n",
    "X_filled = pd.DataFrame(X_filled, columns = ['value', 'anomaly', 'year', 'month', 'day', 'hour', 'minute'])\n",
    "X_filled.index = timestamp\n",
    "X_filled\n",
    "\n",
    "metric_calc(df, X_filled)"
   ]
  }
 ],
 "metadata": {
  "kernelspec": {
   "display_name": "autoimpute",
   "language": "python",
   "name": "python3"
  },
  "language_info": {
   "codemirror_mode": {
    "name": "ipython",
    "version": 3
   },
   "file_extension": ".py",
   "mimetype": "text/x-python",
   "name": "python",
   "nbconvert_exporter": "python",
   "pygments_lexer": "ipython3",
   "version": "3.7.13"
  },
  "orig_nbformat": 4
 },
 "nbformat": 4,
 "nbformat_minor": 2
}
