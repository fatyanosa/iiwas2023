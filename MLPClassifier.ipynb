{
 "cells": [
  {
   "attachments": {},
   "cell_type": "markdown",
   "metadata": {},
   "source": [
    "### Algorithm\n",
    "\n",
    "1. Read the dataset.\n",
    "2. Reshape the dataset\n",
    "2. Split the dataset to:\n",
    "    * 70% training (only contain normal data),\n",
    "    * 10% validation (contain normal and anomaly data), and\n",
    "    * 20% testing dataset (contain normal and anomaly data)\n",
    "3. Create autoencoder model.\n",
    "4. Train the model using training dataset.\n",
    "5. Validate the model using validation dataset.\n",
    "6. Test the model using testing dataset."
   ]
  },
  {
   "attachments": {},
   "cell_type": "markdown",
   "metadata": {},
   "source": [
    "### Requirements"
   ]
  },
  {
   "cell_type": "code",
   "execution_count": 1,
   "metadata": {},
   "outputs": [],
   "source": [
    "import numpy as np\n",
    "import pandas as pd\n",
    "import seaborn as sns\n",
    "import matplotlib.pyplot as plt\n",
    "from tqdm import tqdm\n",
    "\n",
    "from sklearn.model_selection import train_test_split\n",
    "from sklearn.metrics import confusion_matrix, precision_score, recall_score, f1_score\n"
   ]
  },
  {
   "attachments": {},
   "cell_type": "markdown",
   "metadata": {},
   "source": [
    "### Hyperparameters"
   ]
  },
  {
   "cell_type": "code",
   "execution_count": 2,
   "metadata": {},
   "outputs": [],
   "source": [
    "window_size = 25\n",
    "value_range = (0, 40000)\n",
    "\n",
    "test_size = 0.25\n",
    "random_state = 11\n",
    "\n",
    "# Define model's hyperparameters\n",
    "hidden_size = 64\n",
    "output_size = 1\n",
    "num_epochs = 4000\n",
    "batch_size = 32\n",
    "learning_rate = 0.001"
   ]
  },
  {
   "attachments": {},
   "cell_type": "markdown",
   "metadata": {},
   "source": [
    "### Helper Functions"
   ]
  },
  {
   "cell_type": "code",
   "execution_count": 3,
   "metadata": {},
   "outputs": [],
   "source": [
    "def plot_anomaly(df, label='anomaly', plot_item='value', time_col='timestamp'):\n",
    "    # Create sections\n",
    "    sections = list()\n",
    "    state = df.iloc[0][label]\n",
    "    start = 0\n",
    "    for i in df.index:\n",
    "        if df.loc[i][label] != state:\n",
    "            state = df.loc[i][label]\n",
    "            sections.append(df.loc[start:i].copy(deep=True))\n",
    "            start = i\n",
    "    sections.append(df.loc[start:].copy(deep=True))\n",
    "\n",
    "    # Plot sections\n",
    "    plt.close()\n",
    "    plt.figure().set_figwidth(20)\n",
    "    for s in sections:\n",
    "        # Change index\n",
    "        s.index = s[time_col]\n",
    "\n",
    "        color = 'blue' if s.iloc[0][label] == 0 else 'red'\n",
    "        # plt.plot(s.index, s[plot_item], color=color)\n",
    "        plt.scatter(s.index, s[plot_item], color=color)\n",
    "\n",
    "    plt.show()\n",
    "\n",
    "\n",
    "def plot_cm(cm):\n",
    "    plt.close()\n",
    "    # plt.figure(figsize=(8,8))\n",
    "    # sns.set(font_scale = 1.5)\n",
    "\n",
    "    ax = sns.heatmap(\n",
    "        cm, # confusion matrix 2D array \n",
    "        annot=True, # show numbers in the cells\n",
    "        fmt='d', # show numbers as integers\n",
    "        xticklabels=[0,1],\n",
    "        yticklabels=[0,1],\n",
    "        # cbar=False, # don't show the color bar\n",
    "        # cmap='flag', # customize color map\n",
    "        # vmin=200, # to get better color contrast\n",
    "        # vmax=800 # to get better color contrast\n",
    "    )\n",
    "\n",
    "    ax.set_xlabel(\"Predicted\")\n",
    "    ax.set_ylabel(\"Actual\")\n",
    "    plt.show()\n",
    "\n",
    "\n",
    "\n",
    "def show_matrix(y, y_pred):\n",
    "    ps = precision_score(y, y_pred, pos_label=1, labels=[0, 1])\n",
    "    print(\"precision_score: %.2f\" % ps)\n",
    "\n",
    "    rs = recall_score(y, y_pred, pos_label=1, labels=[0, 1])\n",
    "    print(\"recall_score: %.2f\" % rs)\n",
    "\n",
    "    f1 = f1_score(y, y_pred, pos_label=1, labels=[0, 1])\n",
    "    print(\"f1_score: %.2f\" % f1)\n",
    "\n",
    "    cm = confusion_matrix(y, y_pred, labels=[0, 1])\n",
    "    # print(\"conf_matrix\")\n",
    "    # print(cm)\n",
    "    plot_cm(cm)"
   ]
  },
  {
   "attachments": {},
   "cell_type": "markdown",
   "metadata": {},
   "source": [
    "### Preparing dataset"
   ]
  },
  {
   "cell_type": "code",
   "execution_count": 4,
   "metadata": {},
   "outputs": [],
   "source": [
    "# Read the dataset\n",
    "raw = pd.read_csv('/nas.dbms/mahendra.data/Documents/annotation/NAB/data/realKnownCause/nyc_taxi.csv',low_memory=False)\n",
    "raw['timestamp'] = pd.to_datetime(raw['timestamp'])\n",
    "\n",
    "\n",
    "# The times of anomaly events (Ground Truth)\n",
    "anomaly_points = [\n",
    "        [\n",
    "            \"2014-11-01 06:00:00.000000\",\n",
    "            \"2014-11-02 06:00:00.000000\"\n",
    "        ],\n",
    "        [\n",
    "            \"2014-11-27 06:00:00.000000\",\n",
    "            \"2014-11-28 06:00:00.000000\"\n",
    "        ],\n",
    "        [\n",
    "            \"2014-12-25 06:00:00.000000\",\n",
    "            \"2014-12-26 06:00:00.000000\"\n",
    "        ],\n",
    "        [\n",
    "            \"2014-12-31 06:00:00.000000\",\n",
    "            \"2015-01-01 06:00:00.000000\"\n",
    "        ],\n",
    "        [\n",
    "            \"2015-01-26 16:00:00.000000\",\n",
    "            \"2015-01-28 05:00:00.000000\"\n",
    "        ]\n",
    "]\n",
    "\n",
    "# Normal label: 0, Anomaly label: 1\n",
    "raw['anomaly'] = 0  # Set default values\n",
    "for start, end in anomaly_points:\n",
    "    raw.loc[((raw['timestamp'] >= start) & (raw['timestamp'] <= end)), 'anomaly'] = 1"
   ]
  },
  {
   "cell_type": "code",
   "execution_count": 5,
   "metadata": {},
   "outputs": [
    {
     "name": "stdout",
     "output_type": "stream",
     "text": [
      "            timestamp  value  anomaly\n",
      "0 2014-07-01 00:00:00  10844        0\n",
      "1 2014-07-01 00:30:00   8127        0\n",
      "2 2014-07-01 01:00:00   6210        0\n",
      "3 2014-07-01 01:30:00   4656        0\n",
      "4 2014-07-01 02:00:00   3820        0\n",
      "\n",
      "Dataset size:\n",
      "(10320, 3)\n",
      "\n",
      "Dataset distribution:\n",
      "0    10049\n",
      "1      271\n",
      "Name: anomaly, dtype: int64\n"
     ]
    }
   ],
   "source": [
    "print(raw.head())\n",
    "print(\"\\nDataset size:\")\n",
    "print(raw.shape)\n",
    "print(\"\\nDataset distribution:\")\n",
    "print(raw['anomaly'].value_counts())"
   ]
  },
  {
   "cell_type": "code",
   "execution_count": 6,
   "metadata": {},
   "outputs": [],
   "source": [
    "X, y = [], []\n",
    "for i in range(raw.shape[0]-window_size):\n",
    "    feature = raw['value'].iloc[i:i+window_size]\n",
    "    target = raw['anomaly'].iloc[i:i+window_size]\n",
    "    X.append(feature)\n",
    "    y.append(target)\n",
    "\n",
    "# Convert to numpy\n",
    "X = np.array(X)\n",
    "y = np.array(y)\n",
    "\n",
    "# row = int(raw.shape[0]/window_size)\n",
    "# col = window_size\n",
    "\n",
    "# # Convert from pandas to numpy\n",
    "# X = raw['value'].to_numpy()\n",
    "# y = raw['anomaly'].to_numpy()\n",
    "\n",
    "# # Reshape\n",
    "# X = X.reshape((row, col))  # shape: (num_samples, num_features)\n",
    "# y = y.reshape((row, col))  # shape: (num_samples,)\n",
    "\n",
    "# Normalization\n",
    "X = (X - value_range[0]) / (value_range[1] - value_range[0])\n",
    "\n",
    "# Calculate the median of the labels\n",
    "y = np.round(np.mean(y, axis=1))"
   ]
  },
  {
   "cell_type": "code",
   "execution_count": 7,
   "metadata": {},
   "outputs": [
    {
     "name": "stdout",
     "output_type": "stream",
     "text": [
      "Training dataset\n",
      "X shape: (7721, 25)\n",
      "y shape: (7721,)\n",
      "Anomaly distribution:\n",
      "0.0    7526\n",
      "1.0     195\n",
      "dtype: int64\n",
      "\n",
      "Testing dataset\n",
      "X shape: (2574, 25)\n",
      "y shape: (2574,)\n",
      "Anomaly distribution:\n",
      "0.0    2498\n",
      "1.0      76\n",
      "dtype: int64\n"
     ]
    }
   ],
   "source": [
    "X_train, X_test, y_train, y_test = train_test_split(X, y, test_size=test_size, random_state=random_state,)\n",
    "\n",
    "print(\"Training dataset\")\n",
    "print(\"X shape:\", X_train.shape)\n",
    "print(\"y shape:\", y_train.shape)\n",
    "print(\"Anomaly distribution:\")\n",
    "print(pd.Series(y_train).value_counts())\n",
    "\n",
    "print(\"\\nTesting dataset\")\n",
    "print(\"X shape:\", X_test.shape)\n",
    "print(\"y shape:\", y_test.shape)\n",
    "print(\"Anomaly distribution:\")\n",
    "print(pd.Series(y_test).value_counts())"
   ]
  },
  {
   "cell_type": "code",
   "execution_count": 8,
   "metadata": {},
   "outputs": [
    {
     "name": "stderr",
     "output_type": "stream",
     "text": [
      "Training: 100%|██████████████████████████████████████████████████████████████████████████████████████| 4000/4000 [12:49<00:00,  5.20it/s, Loss=0.0000]\n"
     ]
    }
   ],
   "source": [
    "import torch\n",
    "import torch.nn as nn\n",
    "import torch.optim as optim\n",
    "from torch.utils.data import TensorDataset, DataLoader\n",
    "\n",
    "device = torch.device(\"cuda:0\" if torch.cuda.is_available() else \"cpu\")\n",
    "\n",
    "\n",
    "# Define the MLP model\n",
    "class MLPClassifier(nn.Module):\n",
    "    def __init__(self, input_size, hidden_size, output_size):\n",
    "        super(MLPClassifier, self).__init__()\n",
    "        self.fc1 = nn.Linear(input_size, hidden_size)\n",
    "        self.relu1 = nn.ReLU()\n",
    "        self.fc2 = nn.Linear(hidden_size, hidden_size)\n",
    "        self.relu2 = nn.ReLU()\n",
    "        self.fc3 = nn.Linear(hidden_size, hidden_size)\n",
    "        self.relu3 = nn.ReLU()\n",
    "        self.fcOut = nn.Linear(hidden_size, output_size)\n",
    "\n",
    "    def forward(self, x):\n",
    "        out = self.fc1(x)\n",
    "        out = self.relu1(out)\n",
    "        out = self.fc2(out)\n",
    "        out = self.relu2(out)\n",
    "        out = self.fc3(out)\n",
    "        out = self.relu3(out)\n",
    "        out = self.fcOut(out)\n",
    "        return out\n",
    "\n",
    "\n",
    "def predict(model, features_tensor):\n",
    "    with torch.no_grad():\n",
    "        model.eval()\n",
    "        train_outputs = model(features_tensor)\n",
    "        return torch.round(torch.sigmoid(train_outputs)).squeeze().cpu().numpy()\n",
    "\n",
    "\n",
    "# Convert numpy arrays to PyTorch tensors\n",
    "X_train_tensor = torch.tensor(X_train, dtype=torch.float32).to(device)\n",
    "y_train_tensor = torch.tensor(y_train, dtype=torch.float32).to(device)\n",
    "\n",
    "# Define input size\n",
    "input_size = X_train.shape[1]\n",
    "\n",
    "# Create the MLP model\n",
    "model = MLPClassifier(input_size, hidden_size, output_size).to(device)\n",
    "\n",
    "# Define loss function and optimizer\n",
    "criterion = nn.BCEWithLogitsLoss()\n",
    "optimizer = optim.Adam(model.parameters(), lr=learning_rate)\n",
    "\n",
    "# Create a TensorDataset and DataLoader\n",
    "dataset = TensorDataset(X_train_tensor, y_train_tensor)\n",
    "dataloader = DataLoader(dataset, batch_size=batch_size, shuffle=True)\n",
    "\n",
    "progress_bar = tqdm(range(num_epochs),ncols=150)\n",
    "progress_bar.set_description(\"Training\")\n",
    "for epoch in progress_bar:\n",
    "    # Set the model in training mode\n",
    "    model.train()\n",
    "\n",
    "    for batch_features, batch_labels in dataloader:\n",
    "        # Move batch to GPU\n",
    "        batch_features = batch_features.to(device)\n",
    "        batch_labels = batch_labels.to(device)\n",
    "        \n",
    "        # Forward pass\n",
    "        outputs = model(batch_features)\n",
    "\n",
    "        # Calculate loss\n",
    "        loss = criterion(outputs.squeeze(), batch_labels)\n",
    "\n",
    "        # Backward and optimize\n",
    "        optimizer.zero_grad()\n",
    "        loss.backward()\n",
    "        optimizer.step()\n",
    "\n",
    "    # Print the loss after each epoch\n",
    "    progress_bar.set_postfix(Loss=\"%.4f\" % loss.item())\n",
    "\n",
    "\n",
    "# Train prediction\n",
    "train_predictions = predict(model, X_train_tensor)\n",
    "\n",
    "# Test prediction\n",
    "X_test_tensor = torch.tensor(X_test, dtype=torch.float32).to(device)\n",
    "test_predictions = predict(model, X_test_tensor)\n"
   ]
  },
  {
   "cell_type": "code",
   "execution_count": 9,
   "metadata": {},
   "outputs": [
    {
     "name": "stdout",
     "output_type": "stream",
     "text": [
      "precision_score: 1.00\n",
      "recall_score: 1.00\n",
      "f1_score: 1.00\n"
     ]
    },
    {
     "data": {
      "image/png": "[encoded data removed]",
      "text/plain": [
       "<Figure size 640x480 with 2 Axes>"
      ]
     },
     "metadata": {},
     "output_type": "display_data"
    }
   ],
   "source": [
    "show_matrix(y_train, train_predictions)"
   ]
  },
  {
   "cell_type": "code",
   "execution_count": 10,
   "metadata": {},
   "outputs": [
    {
     "name": "stdout",
     "output_type": "stream",
     "text": [
      "precision_score: 0.97\n",
      "recall_score: 0.86\n",
      "f1_score: 0.91\n"
     ]
    },
    {
     "data": {
      "image/png": "[encoded data removed]",
      "text/plain": [
       "<Figure size 640x480 with 2 Axes>"
      ]
     },
     "metadata": {},
     "output_type": "display_data"
    }
   ],
   "source": [
    "show_matrix(y_test, test_predictions)"
   ]
  }
 ],
 "metadata": {
  "kernelspec": {
   "display_name": "mida",
   "language": "python",
   "name": "python3"
  },
  "language_info": {
   "codemirror_mode": {
    "name": "ipython",
    "version": 3
   },
   "file_extension": ".py",
   "mimetype": "text/x-python",
   "name": "python",
   "nbconvert_exporter": "python",
   "pygments_lexer": "ipython3",
   "version": "3.9.16"
  },
  "orig_nbformat": 4
 },
 "nbformat": 4,
 "nbformat_minor": 2
}
